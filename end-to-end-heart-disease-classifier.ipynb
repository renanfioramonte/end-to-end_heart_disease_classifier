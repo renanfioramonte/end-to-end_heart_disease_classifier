{
 "cells": [
  {
   "cell_type": "markdown",
   "id": "a0fde38e",
   "metadata": {
    "id": "view-in-github",
    "papermill": {
     "duration": 0.025058,
     "end_time": "2022-10-11T20:32:34.233394",
     "exception": false,
     "start_time": "2022-10-11T20:32:34.208336",
     "status": "completed"
    },
    "tags": []
   },
   "source": [
    "<a href=\"https://colab.research.google.com/github/renanfioramonte/end-to-end_heart_disease_classifier/blob/main/end_to_end_heart_disease_class.ipynb\" target=\"_parent\"><img src=\"https://colab.research.google.com/assets/colab-badge.svg\" alt=\"Open In Colab\"/></a>"
   ]
  },
  {
   "cell_type": "markdown",
   "id": "11f1efa6",
   "metadata": {
    "id": "voG2sS78UXCC",
    "papermill": {
     "duration": 0.019138,
     "end_time": "2022-10-11T20:32:34.272587",
     "exception": false,
     "start_time": "2022-10-11T20:32:34.253449",
     "status": "completed"
    },
    "tags": []
   },
   "source": [
    "# Libraries"
   ]
  },
  {
   "cell_type": "code",
   "execution_count": 1,
   "id": "8a28a345",
   "metadata": {
    "execution": {
     "iopub.execute_input": "2022-10-11T20:32:34.325701Z",
     "iopub.status.busy": "2022-10-11T20:32:34.324527Z",
     "iopub.status.idle": "2022-10-11T20:32:35.788413Z",
     "shell.execute_reply": "2022-10-11T20:32:35.787231Z"
    },
    "id": "M4s7xa1eKmiI",
    "papermill": {
     "duration": 1.491067,
     "end_time": "2022-10-11T20:32:35.791406",
     "exception": false,
     "start_time": "2022-10-11T20:32:34.300339",
     "status": "completed"
    },
    "tags": []
   },
   "outputs": [],
   "source": [
    "import pandas as pd\n",
    "import numpy as np\n",
    "import matplotlib.pyplot as plt\n",
    "# plots inside the notebook\n",
    "%matplotlib inline\n",
    "import seaborn as sns\n",
    "\n",
    "#Models\n",
    "from sklearn.linear_model import LogisticRegression\n",
    "from sklearn.neighbors import KNeighborsClassifier\n",
    "from sklearn.ensemble import RandomForestClassifier\n",
    "\n",
    "#Models evaluation\n",
    "from sklearn.model_selection import train_test_split, cross_val_score\n",
    "from sklearn.model_selection import RandomizedSearchCV, GridSearchCV\n",
    "from sklearn.metrics import confusion_matrix, classification_report\n",
    "from sklearn.metrics import precision_score, recall_score, f1_score\n",
    "from sklearn.metrics import plot_roc_curve\n",
    "from sklearn import metrics"
   ]
  },
  {
   "cell_type": "markdown",
   "id": "d574b50b",
   "metadata": {
    "id": "VcKoyPGbUMco",
    "papermill": {
     "duration": 0.019005,
     "end_time": "2022-10-11T20:32:35.829920",
     "exception": false,
     "start_time": "2022-10-11T20:32:35.810915",
     "status": "completed"
    },
    "tags": []
   },
   "source": [
    "# Data"
   ]
  },
  {
   "cell_type": "code",
   "execution_count": 2,
   "id": "0d3f9244",
   "metadata": {
    "execution": {
     "iopub.execute_input": "2022-10-11T20:32:35.870543Z",
     "iopub.status.busy": "2022-10-11T20:32:35.870123Z",
     "iopub.status.idle": "2022-10-11T20:32:35.894456Z",
     "shell.execute_reply": "2022-10-11T20:32:35.893634Z"
    },
    "id": "zpf4gK49UJMk",
    "papermill": {
     "duration": 0.047442,
     "end_time": "2022-10-11T20:32:35.896905",
     "exception": false,
     "start_time": "2022-10-11T20:32:35.849463",
     "status": "completed"
    },
    "tags": []
   },
   "outputs": [],
   "source": [
    "df = pd.read_csv('../input/heart-disease-dataset/heart.csv')"
   ]
  },
  {
   "cell_type": "markdown",
   "id": "be0a571e",
   "metadata": {
    "id": "Ui2uUFIgYZiS",
    "papermill": {
     "duration": 0.0228,
     "end_time": "2022-10-11T20:32:35.939872",
     "exception": false,
     "start_time": "2022-10-11T20:32:35.917072",
     "status": "completed"
    },
    "tags": []
   },
   "source": [
    "# EDA"
   ]
  },
  {
   "cell_type": "markdown",
   "id": "598bb4e9",
   "metadata": {
    "id": "vUCnmi8uiw1I",
    "papermill": {
     "duration": 0.024742,
     "end_time": "2022-10-11T20:32:35.993964",
     "exception": false,
     "start_time": "2022-10-11T20:32:35.969222",
     "status": "completed"
    },
    "tags": []
   },
   "source": [
    "## General"
   ]
  },
  {
   "cell_type": "code",
   "execution_count": 3,
   "id": "63ed89d2",
   "metadata": {
    "execution": {
     "iopub.execute_input": "2022-10-11T20:32:36.043361Z",
     "iopub.status.busy": "2022-10-11T20:32:36.042452Z",
     "iopub.status.idle": "2022-10-11T20:32:36.111191Z",
     "shell.execute_reply": "2022-10-11T20:32:36.110121Z"
    },
    "id": "nPlzHdvBYQXm",
    "outputId": "dc98a0dc-5791-49c0-8176-72718536edfc",
    "papermill": {
     "duration": 0.093459,
     "end_time": "2022-10-11T20:32:36.114302",
     "exception": false,
     "start_time": "2022-10-11T20:32:36.020843",
     "status": "completed"
    },
    "tags": []
   },
   "outputs": [
    {
     "name": "stdout",
     "output_type": "stream",
     "text": [
      "<class 'pandas.core.frame.DataFrame'>\n",
      "RangeIndex: 1025 entries, 0 to 1024\n",
      "Data columns (total 14 columns):\n",
      " #   Column    Non-Null Count  Dtype  \n",
      "---  ------    --------------  -----  \n",
      " 0   age       1025 non-null   int64  \n",
      " 1   sex       1025 non-null   int64  \n",
      " 2   cp        1025 non-null   int64  \n",
      " 3   trestbps  1025 non-null   int64  \n",
      " 4   chol      1025 non-null   int64  \n",
      " 5   fbs       1025 non-null   int64  \n",
      " 6   restecg   1025 non-null   int64  \n",
      " 7   thalach   1025 non-null   int64  \n",
      " 8   exang     1025 non-null   int64  \n",
      " 9   oldpeak   1025 non-null   float64\n",
      " 10  slope     1025 non-null   int64  \n",
      " 11  ca        1025 non-null   int64  \n",
      " 12  thal      1025 non-null   int64  \n",
      " 13  target    1025 non-null   int64  \n",
      "dtypes: float64(1), int64(13)\n",
      "memory usage: 112.2 KB\n"
     ]
    },
    {
     "data": {
      "text/plain": [
       "(None,\n",
       "                age          sex           cp     trestbps        chol  \\\n",
       " count  1025.000000  1025.000000  1025.000000  1025.000000  1025.00000   \n",
       " mean     54.434146     0.695610     0.942439   131.611707   246.00000   \n",
       " std       9.072290     0.460373     1.029641    17.516718    51.59251   \n",
       " min      29.000000     0.000000     0.000000    94.000000   126.00000   \n",
       " 25%      48.000000     0.000000     0.000000   120.000000   211.00000   \n",
       " 50%      56.000000     1.000000     1.000000   130.000000   240.00000   \n",
       " 75%      61.000000     1.000000     2.000000   140.000000   275.00000   \n",
       " max      77.000000     1.000000     3.000000   200.000000   564.00000   \n",
       " \n",
       "                fbs      restecg      thalach        exang      oldpeak  \\\n",
       " count  1025.000000  1025.000000  1025.000000  1025.000000  1025.000000   \n",
       " mean      0.149268     0.529756   149.114146     0.336585     1.071512   \n",
       " std       0.356527     0.527878    23.005724     0.472772     1.175053   \n",
       " min       0.000000     0.000000    71.000000     0.000000     0.000000   \n",
       " 25%       0.000000     0.000000   132.000000     0.000000     0.000000   \n",
       " 50%       0.000000     1.000000   152.000000     0.000000     0.800000   \n",
       " 75%       0.000000     1.000000   166.000000     1.000000     1.800000   \n",
       " max       1.000000     2.000000   202.000000     1.000000     6.200000   \n",
       " \n",
       "              slope           ca         thal       target  \n",
       " count  1025.000000  1025.000000  1025.000000  1025.000000  \n",
       " mean      1.385366     0.754146     2.323902     0.513171  \n",
       " std       0.617755     1.030798     0.620660     0.500070  \n",
       " min       0.000000     0.000000     0.000000     0.000000  \n",
       " 25%       1.000000     0.000000     2.000000     0.000000  \n",
       " 50%       1.000000     0.000000     2.000000     1.000000  \n",
       " 75%       2.000000     1.000000     3.000000     1.000000  \n",
       " max       2.000000     4.000000     3.000000     1.000000  )"
      ]
     },
     "execution_count": 3,
     "metadata": {},
     "output_type": "execute_result"
    }
   ],
   "source": [
    "df.info(), df.describe()"
   ]
  },
  {
   "cell_type": "markdown",
   "id": "f56bd9ee",
   "metadata": {
    "id": "StpwCLEK1lVG",
    "papermill": {
     "duration": 0.019455,
     "end_time": "2022-10-11T20:32:36.153677",
     "exception": false,
     "start_time": "2022-10-11T20:32:36.134222",
     "status": "completed"
    },
    "tags": []
   },
   "source": [
    "## Correlation Matrix"
   ]
  },
  {
   "cell_type": "code",
   "execution_count": 4,
   "id": "06c2c512",
   "metadata": {
    "execution": {
     "iopub.execute_input": "2022-10-11T20:32:36.196470Z",
     "iopub.status.busy": "2022-10-11T20:32:36.195998Z",
     "iopub.status.idle": "2022-10-11T20:32:37.442154Z",
     "shell.execute_reply": "2022-10-11T20:32:37.440894Z"
    },
    "id": "_WDLo_xF1pDH",
    "outputId": "3d9c9709-7ecc-4dd5-cdb5-274a0f7b71d8",
    "papermill": {
     "duration": 1.271812,
     "end_time": "2022-10-11T20:32:37.445638",
     "exception": false,
     "start_time": "2022-10-11T20:32:36.173826",
     "status": "completed"
    },
    "tags": []
   },
   "outputs": [
    {
     "data": {
      "image/png": "[encoded data removed]",
      "text/plain": [
       "<Figure size 1080x720 with 2 Axes>"
      ]
     },
     "metadata": {
      "needs_background": "light"
     },
     "output_type": "display_data"
    }
   ],
   "source": [
    "corr_matrix = df.corr()\n",
    "fig, ax = plt.subplots(figsize=(15,10))\n",
    "ax = sns.heatmap(corr_matrix, annot=True, linewidths = 0.5, fmt='.2f', cmap='YlGnBu')"
   ]
  },
  {
   "cell_type": "code",
   "execution_count": null,
   "id": "570fabab",
   "metadata": {
    "id": "hvjWDVyl1sYo",
    "papermill": {
     "duration": 0.021287,
     "end_time": "2022-10-11T20:32:37.488431",
     "exception": false,
     "start_time": "2022-10-11T20:32:37.467144",
     "status": "completed"
    },
    "tags": []
   },
   "outputs": [],
   "source": []
  },
  {
   "cell_type": "markdown",
   "id": "30c186ee",
   "metadata": {
    "id": "dwORU4C-ber8",
    "papermill": {
     "duration": 0.021403,
     "end_time": "2022-10-11T20:32:37.531176",
     "exception": false,
     "start_time": "2022-10-11T20:32:37.509773",
     "status": "completed"
    },
    "tags": []
   },
   "source": [
    "## Heart disease vs. gender"
   ]
  },
  {
   "cell_type": "code",
   "execution_count": 5,
   "id": "c17a9632",
   "metadata": {
    "execution": {
     "iopub.execute_input": "2022-10-11T20:32:37.575812Z",
     "iopub.status.busy": "2022-10-11T20:32:37.575422Z",
     "iopub.status.idle": "2022-10-11T20:32:37.731423Z",
     "shell.execute_reply": "2022-10-11T20:32:37.730663Z"
    },
    "id": "pPq-HT-ZbcmQ",
    "outputId": "a7c22056-1d37-4d99-d94b-33f13ad9190d",
    "papermill": {
     "duration": 0.18225,
     "end_time": "2022-10-11T20:32:37.735397",
     "exception": false,
     "start_time": "2022-10-11T20:32:37.553147",
     "status": "completed"
    },
    "tags": []
   },
   "outputs": [
    {
     "data": {
      "image/png": "[encoded data removed]",
      "text/plain": [
       "<Figure size 432x288 with 1 Axes>"
      ]
     },
     "metadata": {
      "needs_background": "light"
     },
     "output_type": "display_data"
    }
   ],
   "source": [
    "df.sex.value_counts().plot(kind='bar', color=['red', 'blue'])\n",
    "plt.title('Heart disease vs Gender')\n",
    "plt.xlabel('0 = Female, 1 = Male')\n",
    "plt.ylabel('Count')\n",
    "plt.xticks(rotation=0);"
   ]
  },
  {
   "cell_type": "code",
   "execution_count": 6,
   "id": "0beacaff",
   "metadata": {
    "execution": {
     "iopub.execute_input": "2022-10-11T20:32:37.782050Z",
     "iopub.status.busy": "2022-10-11T20:32:37.780995Z",
     "iopub.status.idle": "2022-10-11T20:32:37.807475Z",
     "shell.execute_reply": "2022-10-11T20:32:37.806676Z"
    },
    "id": "HmsBB0r3ZfCl",
    "outputId": "1719901a-90bb-4575-ac11-ba398c265983",
    "papermill": {
     "duration": 0.051601,
     "end_time": "2022-10-11T20:32:37.809489",
     "exception": false,
     "start_time": "2022-10-11T20:32:37.757888",
     "status": "completed"
    },
    "tags": []
   },
   "outputs": [
    {
     "data": {
      "text/html": [
       "<div>\n",
       "<style scoped>\n",
       "    .dataframe tbody tr th:only-of-type {\n",
       "        vertical-align: middle;\n",
       "    }\n",
       "\n",
       "    .dataframe tbody tr th {\n",
       "        vertical-align: top;\n",
       "    }\n",
       "\n",
       "    .dataframe thead th {\n",
       "        text-align: right;\n",
       "    }\n",
       "</style>\n",
       "<table border=\"1\" class=\"dataframe\">\n",
       "  <thead>\n",
       "    <tr style=\"text-align: right;\">\n",
       "      <th>sex</th>\n",
       "      <th>0</th>\n",
       "      <th>1</th>\n",
       "    </tr>\n",
       "    <tr>\n",
       "      <th>target</th>\n",
       "      <th></th>\n",
       "      <th></th>\n",
       "    </tr>\n",
       "  </thead>\n",
       "  <tbody>\n",
       "    <tr>\n",
       "      <th>0</th>\n",
       "      <td>86</td>\n",
       "      <td>413</td>\n",
       "    </tr>\n",
       "    <tr>\n",
       "      <th>1</th>\n",
       "      <td>226</td>\n",
       "      <td>300</td>\n",
       "    </tr>\n",
       "  </tbody>\n",
       "</table>\n",
       "</div>"
      ],
      "text/plain": [
       "sex       0    1\n",
       "target          \n",
       "0        86  413\n",
       "1       226  300"
      ]
     },
     "execution_count": 6,
     "metadata": {},
     "output_type": "execute_result"
    }
   ],
   "source": [
    "# Comparing target columns with sex column\n",
    "pd.crosstab(df.target, df.sex)"
   ]
  },
  {
   "cell_type": "code",
   "execution_count": 7,
   "id": "7820f74a",
   "metadata": {
    "execution": {
     "iopub.execute_input": "2022-10-11T20:32:37.854903Z",
     "iopub.status.busy": "2022-10-11T20:32:37.854286Z",
     "iopub.status.idle": "2022-10-11T20:32:38.107832Z",
     "shell.execute_reply": "2022-10-11T20:32:38.107061Z"
    },
    "id": "YdGadVSlb3Nr",
    "outputId": "4f95d5b4-98a7-4aba-ebb2-37b8346c0091",
    "papermill": {
     "duration": 0.278926,
     "end_time": "2022-10-11T20:32:38.110123",
     "exception": false,
     "start_time": "2022-10-11T20:32:37.831197",
     "status": "completed"
    },
    "tags": []
   },
   "outputs": [
    {
     "data": {
      "image/png": "[encoded data removed]",
      "text/plain": [
       "<Figure size 720x432 with 1 Axes>"
      ]
     },
     "metadata": {
      "needs_background": "light"
     },
     "output_type": "display_data"
    }
   ],
   "source": [
    "pd.crosstab(df.target, df.sex).plot(kind='bar', figsize=(10,6), color=['red', 'blue'])\n",
    "plt.title('Heart disease vs Gender')\n",
    "plt.xlabel('0 = No Disease, 1 = Disease')\n",
    "plt.ylabel('Count')\n",
    "plt.legend(['Female', 'Male'])\n",
    "plt.xticks(rotation=0);"
   ]
  },
  {
   "cell_type": "markdown",
   "id": "257ba9eb",
   "metadata": {
    "id": "K49UKCl_flgE",
    "papermill": {
     "duration": 0.021285,
     "end_time": "2022-10-11T20:32:38.153339",
     "exception": false,
     "start_time": "2022-10-11T20:32:38.132054",
     "status": "completed"
    },
    "tags": []
   },
   "source": [
    "## Age vs. Heart Rate for heart disease"
   ]
  },
  {
   "cell_type": "code",
   "execution_count": 8,
   "id": "8bd84d9a",
   "metadata": {
    "execution": {
     "iopub.execute_input": "2022-10-11T20:32:38.199586Z",
     "iopub.status.busy": "2022-10-11T20:32:38.198995Z",
     "iopub.status.idle": "2022-10-11T20:32:38.518698Z",
     "shell.execute_reply": "2022-10-11T20:32:38.517597Z"
    },
    "id": "OeEHQcYnfoCa",
    "outputId": "51568a3e-aa5d-4040-e765-7956edd02430",
    "papermill": {
     "duration": 0.345554,
     "end_time": "2022-10-11T20:32:38.521163",
     "exception": false,
     "start_time": "2022-10-11T20:32:38.175609",
     "status": "completed"
    },
    "tags": []
   },
   "outputs": [
    {
     "data": {
      "image/png": "[encoded data removed]",
      "text/plain": [
       "<Figure size 720x432 with 1 Axes>"
      ]
     },
     "metadata": {
      "needs_background": "light"
     },
     "output_type": "display_data"
    }
   ],
   "source": [
    "plt.figure(figsize=(10,6))\n",
    "# scatter of patients WITH heart disease\n",
    "plt.scatter(df.age[df.target==1], df.thalach[df.target==1], c='red')\n",
    "# scatter of patients WITHOUT heart disease\n",
    "plt.scatter(df.age[df.target==0], df.thalach[df.target==0], c='blue')\n",
    "\n",
    "plt.title('Heart disease in function of Age and Max Heart Rate')\n",
    "plt.xlabel('Age')\n",
    "plt.ylabel('Max Heart Rate')\n",
    "plt.legend(['Disease', 'No disease']);"
   ]
  },
  {
   "cell_type": "markdown",
   "id": "264fa533",
   "metadata": {
    "id": "RIi4UjOTjr_K",
    "papermill": {
     "duration": 0.021871,
     "end_time": "2022-10-11T20:32:38.565383",
     "exception": false,
     "start_time": "2022-10-11T20:32:38.543512",
     "status": "completed"
    },
    "tags": []
   },
   "source": [
    "## Heart Disease vs. Chest Pain"
   ]
  },
  {
   "cell_type": "code",
   "execution_count": 9,
   "id": "a5570738",
   "metadata": {
    "execution": {
     "iopub.execute_input": "2022-10-11T20:32:38.612077Z",
     "iopub.status.busy": "2022-10-11T20:32:38.611041Z",
     "iopub.status.idle": "2022-10-11T20:32:38.874740Z",
     "shell.execute_reply": "2022-10-11T20:32:38.873926Z"
    },
    "id": "RYMTDeokjvcC",
    "outputId": "7e954698-8fc5-42f1-cb37-7b9eef298dbd",
    "papermill": {
     "duration": 0.289261,
     "end_time": "2022-10-11T20:32:38.876919",
     "exception": false,
     "start_time": "2022-10-11T20:32:38.587658",
     "status": "completed"
    },
    "tags": []
   },
   "outputs": [
    {
     "data": {
      "image/png": "[encoded data removed]",
      "text/plain": [
       "<Figure size 720x432 with 1 Axes>"
      ]
     },
     "metadata": {
      "needs_background": "light"
     },
     "output_type": "display_data"
    }
   ],
   "source": [
    "pd.crosstab(df.cp, df.target).plot(kind='bar', figsize=(10,6), color=['blue', 'red'])\n",
    "plt.title('Heart disease vs Chest Pain')\n",
    "plt.xlabel('Chest pain type')\n",
    "plt.ylabel('Count')\n",
    "plt.legend(['No Disease', 'Disease'])\n",
    "plt.xticks(rotation=0);"
   ]
  },
  {
   "cell_type": "markdown",
   "id": "de763f16",
   "metadata": {
    "id": "Tf5Z2n3D6vYD",
    "papermill": {
     "duration": 0.022111,
     "end_time": "2022-10-11T20:32:38.921688",
     "exception": false,
     "start_time": "2022-10-11T20:32:38.899577",
     "status": "completed"
    },
    "tags": []
   },
   "source": [
    "# Modelling"
   ]
  },
  {
   "cell_type": "markdown",
   "id": "84031a7f",
   "metadata": {
    "id": "CZbQdsAv7bIq",
    "papermill": {
     "duration": 0.022211,
     "end_time": "2022-10-11T20:32:38.966505",
     "exception": false,
     "start_time": "2022-10-11T20:32:38.944294",
     "status": "completed"
    },
    "tags": []
   },
   "source": [
    "## Split Data"
   ]
  },
  {
   "cell_type": "code",
   "execution_count": 10,
   "id": "a0b93812",
   "metadata": {
    "execution": {
     "iopub.execute_input": "2022-10-11T20:32:39.013702Z",
     "iopub.status.busy": "2022-10-11T20:32:39.013004Z",
     "iopub.status.idle": "2022-10-11T20:32:39.018337Z",
     "shell.execute_reply": "2022-10-11T20:32:39.017607Z"
    },
    "id": "60K5n1jo6xZS",
    "papermill": {
     "duration": 0.031392,
     "end_time": "2022-10-11T20:32:39.020467",
     "exception": false,
     "start_time": "2022-10-11T20:32:38.989075",
     "status": "completed"
    },
    "tags": []
   },
   "outputs": [],
   "source": [
    "X = df.drop('target', axis=1)\n",
    "y = df.target"
   ]
  },
  {
   "cell_type": "code",
   "execution_count": 11,
   "id": "89cf9c42",
   "metadata": {
    "execution": {
     "iopub.execute_input": "2022-10-11T20:32:39.068374Z",
     "iopub.status.busy": "2022-10-11T20:32:39.067629Z",
     "iopub.status.idle": "2022-10-11T20:32:39.073570Z",
     "shell.execute_reply": "2022-10-11T20:32:39.072769Z"
    },
    "id": "ik_nFUVl7Qci",
    "papermill": {
     "duration": 0.032185,
     "end_time": "2022-10-11T20:32:39.075708",
     "exception": false,
     "start_time": "2022-10-11T20:32:39.043523",
     "status": "completed"
    },
    "tags": []
   },
   "outputs": [],
   "source": [
    "np.random.seed(42)\n",
    "X_train, X_test, y_train, y_test = train_test_split(X, y, test_size=0.2)"
   ]
  },
  {
   "cell_type": "code",
   "execution_count": 12,
   "id": "4c4ab8bd",
   "metadata": {
    "execution": {
     "iopub.execute_input": "2022-10-11T20:32:39.122663Z",
     "iopub.status.busy": "2022-10-11T20:32:39.122249Z",
     "iopub.status.idle": "2022-10-11T20:32:39.129206Z",
     "shell.execute_reply": "2022-10-11T20:32:39.128163Z"
    },
    "id": "ZAtVVHn47RH8",
    "outputId": "e281136e-f1b4-46c0-839c-375a6584a179",
    "papermill": {
     "duration": 0.033096,
     "end_time": "2022-10-11T20:32:39.131460",
     "exception": false,
     "start_time": "2022-10-11T20:32:39.098364",
     "status": "completed"
    },
    "tags": []
   },
   "outputs": [
    {
     "data": {
      "text/plain": [
       "(820, 820, 205, 205)"
      ]
     },
     "execution_count": 12,
     "metadata": {},
     "output_type": "execute_result"
    }
   ],
   "source": [
    "len(X_train), len(y_train), len(X_test), len(y_test)"
   ]
  },
  {
   "cell_type": "markdown",
   "id": "47b6e6e0",
   "metadata": {
    "id": "KUa46LVN8ElF",
    "papermill": {
     "duration": 0.022389,
     "end_time": "2022-10-11T20:32:39.176686",
     "exception": false,
     "start_time": "2022-10-11T20:32:39.154297",
     "status": "completed"
    },
    "tags": []
   },
   "source": [
    "## Models"
   ]
  },
  {
   "cell_type": "markdown",
   "id": "15677f1a",
   "metadata": {
    "id": "XCG4JjzO8m6J",
    "papermill": {
     "duration": 0.022523,
     "end_time": "2022-10-11T20:32:39.221933",
     "exception": false,
     "start_time": "2022-10-11T20:32:39.199410",
     "status": "completed"
    },
    "tags": []
   },
   "source": [
    "### Logistic Regression"
   ]
  },
  {
   "cell_type": "code",
   "execution_count": 13,
   "id": "0929cfd8",
   "metadata": {
    "execution": {
     "iopub.execute_input": "2022-10-11T20:32:39.271782Z",
     "iopub.status.busy": "2022-10-11T20:32:39.271051Z",
     "iopub.status.idle": "2022-10-11T20:32:39.807686Z",
     "shell.execute_reply": "2022-10-11T20:32:39.806546Z"
    },
    "id": "pudzipGs8tz4",
    "outputId": "c8e1ed98-ee4b-46f0-b34b-4eeab4515059",
    "papermill": {
     "duration": 0.566611,
     "end_time": "2022-10-11T20:32:39.811569",
     "exception": false,
     "start_time": "2022-10-11T20:32:39.244958",
     "status": "completed"
    },
    "tags": []
   },
   "outputs": [
    {
     "data": {
      "text/plain": [
       "0.8108108108108107"
      ]
     },
     "execution_count": 13,
     "metadata": {},
     "output_type": "execute_result"
    }
   ],
   "source": [
    "logistic_regression = LogisticRegression(max_iter=1000)\n",
    "logistic_regression.fit(X_train, y_train)\n",
    "log_reg_score = metrics.f1_score(y_test, logistic_regression.predict(X_test))\n",
    "log_reg_score"
   ]
  },
  {
   "cell_type": "markdown",
   "id": "f654cb25",
   "metadata": {
    "id": "Tnr7h83VP40A",
    "papermill": {
     "duration": 0.050813,
     "end_time": "2022-10-11T20:32:39.921628",
     "exception": false,
     "start_time": "2022-10-11T20:32:39.870815",
     "status": "completed"
    },
    "tags": []
   },
   "source": [
    "#### Hyperparamter using RandomizedSearchCV"
   ]
  },
  {
   "cell_type": "code",
   "execution_count": 14,
   "id": "5c313ca0",
   "metadata": {
    "execution": {
     "iopub.execute_input": "2022-10-11T20:32:39.968749Z",
     "iopub.status.busy": "2022-10-11T20:32:39.968371Z",
     "iopub.status.idle": "2022-10-11T20:32:39.973666Z",
     "shell.execute_reply": "2022-10-11T20:32:39.972539Z"
    },
    "id": "sWI2lWiBGCvb",
    "papermill": {
     "duration": 0.031709,
     "end_time": "2022-10-11T20:32:39.976027",
     "exception": false,
     "start_time": "2022-10-11T20:32:39.944318",
     "status": "completed"
    },
    "tags": []
   },
   "outputs": [],
   "source": [
    "log_reg_grid = {'C': np.logspace(-4, 4, 20),\n",
    "                'solver': ['liblinear']}"
   ]
  },
  {
   "cell_type": "code",
   "execution_count": 15,
   "id": "70cd1f43",
   "metadata": {
    "execution": {
     "iopub.execute_input": "2022-10-11T20:32:40.023243Z",
     "iopub.status.busy": "2022-10-11T20:32:40.022843Z",
     "iopub.status.idle": "2022-10-11T20:32:41.037451Z",
     "shell.execute_reply": "2022-10-11T20:32:41.036532Z"
    },
    "id": "KdqkfeiAMGu-",
    "outputId": "294d5515-be66-4073-fdc5-bc8b401617d3",
    "papermill": {
     "duration": 1.040896,
     "end_time": "2022-10-11T20:32:41.039786",
     "exception": false,
     "start_time": "2022-10-11T20:32:39.998890",
     "status": "completed"
    },
    "tags": []
   },
   "outputs": [
    {
     "name": "stderr",
     "output_type": "stream",
     "text": [
      "/opt/conda/lib/python3.7/site-packages/sklearn/model_selection/_search.py:296: UserWarning: The total space of parameters 20 is smaller than n_iter=1000. Running 20 iterations. For exhaustive searches, use GridSearchCV.\n",
      "  UserWarning,\n"
     ]
    },
    {
     "name": "stdout",
     "output_type": "stream",
     "text": [
      "Fitting 5 folds for each of 20 candidates, totalling 100 fits\n"
     ]
    },
    {
     "data": {
      "text/plain": [
       "RandomizedSearchCV(cv=5, estimator=LogisticRegression(), n_iter=1000,\n",
       "                   param_distributions={'C': array([1.00000000e-04, 2.63665090e-04, 6.95192796e-04, 1.83298071e-03,\n",
       "       4.83293024e-03, 1.27427499e-02, 3.35981829e-02, 8.85866790e-02,\n",
       "       2.33572147e-01, 6.15848211e-01, 1.62377674e+00, 4.28133240e+00,\n",
       "       1.12883789e+01, 2.97635144e+01, 7.84759970e+01, 2.06913808e+02,\n",
       "       5.45559478e+02, 1.43844989e+03, 3.79269019e+03, 1.00000000e+04]),\n",
       "                                        'solver': ['liblinear']},\n",
       "                   verbose=True)"
      ]
     },
     "execution_count": 15,
     "metadata": {},
     "output_type": "execute_result"
    }
   ],
   "source": [
    "np.random.seed(42)\n",
    "\n",
    "random_search_log_reg = RandomizedSearchCV(LogisticRegression(),\n",
    "                                           param_distributions = log_reg_grid,\n",
    "                                           cv = 5,\n",
    "                                           n_iter=1000,\n",
    "                                           verbose=True)\n",
    "\n",
    "random_search_log_reg.fit(X_train, y_train)"
   ]
  },
  {
   "cell_type": "code",
   "execution_count": 16,
   "id": "91bf2ecc",
   "metadata": {
    "execution": {
     "iopub.execute_input": "2022-10-11T20:32:41.088204Z",
     "iopub.status.busy": "2022-10-11T20:32:41.087294Z",
     "iopub.status.idle": "2022-10-11T20:32:41.094269Z",
     "shell.execute_reply": "2022-10-11T20:32:41.093142Z"
    },
    "id": "9svKiG2jMzXX",
    "outputId": "972fc61c-3c27-4ef3-efb7-a01bbdc4a5b4",
    "papermill": {
     "duration": 0.033699,
     "end_time": "2022-10-11T20:32:41.096661",
     "exception": false,
     "start_time": "2022-10-11T20:32:41.062962",
     "status": "completed"
    },
    "tags": []
   },
   "outputs": [
    {
     "data": {
      "text/plain": [
       "{'solver': 'liblinear', 'C': 1.623776739188721}"
      ]
     },
     "execution_count": 16,
     "metadata": {},
     "output_type": "execute_result"
    }
   ],
   "source": [
    "random_search_log_reg.best_params_"
   ]
  },
  {
   "cell_type": "code",
   "execution_count": 17,
   "id": "6ef7af68",
   "metadata": {
    "execution": {
     "iopub.execute_input": "2022-10-11T20:32:41.145739Z",
     "iopub.status.busy": "2022-10-11T20:32:41.145001Z",
     "iopub.status.idle": "2022-10-11T20:32:41.154917Z",
     "shell.execute_reply": "2022-10-11T20:32:41.153891Z"
    },
    "id": "FjcupYkhM38d",
    "outputId": "0bce9263-6371-42c1-d71e-00d4c1ef46ff",
    "papermill": {
     "duration": 0.036589,
     "end_time": "2022-10-11T20:32:41.157094",
     "exception": false,
     "start_time": "2022-10-11T20:32:41.120505",
     "status": "completed"
    },
    "tags": []
   },
   "outputs": [
    {
     "data": {
      "text/plain": [
       "0.7853658536585366"
      ]
     },
     "execution_count": 17,
     "metadata": {},
     "output_type": "execute_result"
    }
   ],
   "source": [
    "random_search_log_reg.score(X_test, y_test)"
   ]
  },
  {
   "cell_type": "markdown",
   "id": "d740cd39",
   "metadata": {
    "id": "tD8ZuvtgP6x6",
    "papermill": {
     "duration": 0.023373,
     "end_time": "2022-10-11T20:32:41.203841",
     "exception": false,
     "start_time": "2022-10-11T20:32:41.180468",
     "status": "completed"
    },
    "tags": []
   },
   "source": [
    "#### Hyperparamter using GridSearchCV"
   ]
  },
  {
   "cell_type": "code",
   "execution_count": 18,
   "id": "987ac932",
   "metadata": {
    "execution": {
     "iopub.execute_input": "2022-10-11T20:32:41.252754Z",
     "iopub.status.busy": "2022-10-11T20:32:41.252342Z",
     "iopub.status.idle": "2022-10-11T20:32:42.785405Z",
     "shell.execute_reply": "2022-10-11T20:32:42.784346Z"
    },
    "id": "Gc76ASU_P9yr",
    "outputId": "9716f687-1018-4335-b9fa-270e88caa4ab",
    "papermill": {
     "duration": 1.560403,
     "end_time": "2022-10-11T20:32:42.787665",
     "exception": false,
     "start_time": "2022-10-11T20:32:41.227262",
     "status": "completed"
    },
    "tags": []
   },
   "outputs": [
    {
     "name": "stdout",
     "output_type": "stream",
     "text": [
      "Fitting 5 folds for each of 30 candidates, totalling 150 fits\n"
     ]
    },
    {
     "data": {
      "text/plain": [
       "GridSearchCV(cv=5, estimator=LogisticRegression(),\n",
       "             param_grid={'C': array([1.00000000e-04, 1.88739182e-04, 3.56224789e-04, 6.72335754e-04,\n",
       "       1.26896100e-03, 2.39502662e-03, 4.52035366e-03, 8.53167852e-03,\n",
       "       1.61026203e-02, 3.03919538e-02, 5.73615251e-02, 1.08263673e-01,\n",
       "       2.04335972e-01, 3.85662042e-01, 7.27895384e-01, 1.37382380e+00,\n",
       "       2.59294380e+00, 4.89390092e+00, 9.23670857e+00, 1.74332882e+01,\n",
       "       3.29034456e+01, 6.21016942e+01, 1.17210230e+02, 2.21221629e+02,\n",
       "       4.17531894e+02, 7.88046282e+02, 1.48735211e+03, 2.80721620e+03,\n",
       "       5.29831691e+03, 1.00000000e+04]),\n",
       "                         'solver': ['liblinear']},\n",
       "             verbose=True)"
      ]
     },
     "execution_count": 18,
     "metadata": {},
     "output_type": "execute_result"
    }
   ],
   "source": [
    "log_reg_grid = {'C': np.logspace(-4, 4, 30),\n",
    "                'solver': ['liblinear']}\n",
    "\n",
    "gs_log_reg = GridSearchCV(LogisticRegression(),\n",
    "                          param_grid = log_reg_grid,\n",
    "                          cv = 5,\n",
    "                          verbose = True)\n",
    "\n",
    "gs_log_reg.fit(X_train, y_train)"
   ]
  },
  {
   "cell_type": "code",
   "execution_count": 19,
   "id": "3af7e6a8",
   "metadata": {
    "execution": {
     "iopub.execute_input": "2022-10-11T20:32:42.836197Z",
     "iopub.status.busy": "2022-10-11T20:32:42.835769Z",
     "iopub.status.idle": "2022-10-11T20:32:42.842421Z",
     "shell.execute_reply": "2022-10-11T20:32:42.841400Z"
    },
    "id": "sYZZIAl1Qi2R",
    "outputId": "8868f287-6423-436d-8185-a5719b4c8da9",
    "papermill": {
     "duration": 0.033589,
     "end_time": "2022-10-11T20:32:42.844709",
     "exception": false,
     "start_time": "2022-10-11T20:32:42.811120",
     "status": "completed"
    },
    "tags": []
   },
   "outputs": [
    {
     "data": {
      "text/plain": [
       "{'C': 1.3738237958832638, 'solver': 'liblinear'}"
      ]
     },
     "execution_count": 19,
     "metadata": {},
     "output_type": "execute_result"
    }
   ],
   "source": [
    "gs_log_reg.best_params_"
   ]
  },
  {
   "cell_type": "code",
   "execution_count": 20,
   "id": "d4561fe5",
   "metadata": {
    "execution": {
     "iopub.execute_input": "2022-10-11T20:32:42.894310Z",
     "iopub.status.busy": "2022-10-11T20:32:42.893593Z",
     "iopub.status.idle": "2022-10-11T20:32:42.906069Z",
     "shell.execute_reply": "2022-10-11T20:32:42.905173Z"
    },
    "id": "IZt0UhomQpP2",
    "outputId": "6c483f0f-a1ee-43df-e542-8afb6164bb2e",
    "papermill": {
     "duration": 0.040498,
     "end_time": "2022-10-11T20:32:42.908920",
     "exception": false,
     "start_time": "2022-10-11T20:32:42.868422",
     "status": "completed"
    },
    "tags": []
   },
   "outputs": [
    {
     "data": {
      "text/plain": [
       "0.7853658536585366"
      ]
     },
     "execution_count": 20,
     "metadata": {},
     "output_type": "execute_result"
    }
   ],
   "source": [
    "gs_log_reg.score(X_test, y_test)"
   ]
  },
  {
   "cell_type": "markdown",
   "id": "541a221a",
   "metadata": {
    "id": "fW-Aq4j2Tc0H",
    "papermill": {
     "duration": 0.023341,
     "end_time": "2022-10-11T20:32:42.956658",
     "exception": false,
     "start_time": "2022-10-11T20:32:42.933317",
     "status": "completed"
    },
    "tags": []
   },
   "source": [
    "#### Model Evaluation"
   ]
  },
  {
   "cell_type": "markdown",
   "id": "871d3743",
   "metadata": {
    "id": "C44oDblpU9Xz",
    "papermill": {
     "duration": 0.023017,
     "end_time": "2022-10-11T20:32:43.003169",
     "exception": false,
     "start_time": "2022-10-11T20:32:42.980152",
     "status": "completed"
    },
    "tags": []
   },
   "source": [
    "##### ROC"
   ]
  },
  {
   "cell_type": "code",
   "execution_count": 21,
   "id": "6f669360",
   "metadata": {
    "execution": {
     "iopub.execute_input": "2022-10-11T20:32:43.052995Z",
     "iopub.status.busy": "2022-10-11T20:32:43.052612Z",
     "iopub.status.idle": "2022-10-11T20:32:43.280937Z",
     "shell.execute_reply": "2022-10-11T20:32:43.279888Z"
    },
    "id": "_3CS4X0GUcMq",
    "outputId": "692941c9-eee1-4286-e86f-7752df31b188",
    "papermill": {
     "duration": 0.255962,
     "end_time": "2022-10-11T20:32:43.283254",
     "exception": false,
     "start_time": "2022-10-11T20:32:43.027292",
     "status": "completed"
    },
    "tags": []
   },
   "outputs": [
    {
     "name": "stderr",
     "output_type": "stream",
     "text": [
      "/opt/conda/lib/python3.7/site-packages/sklearn/utils/deprecation.py:87: FutureWarning: Function plot_roc_curve is deprecated; Function :func:`plot_roc_curve` is deprecated in 1.0 and will be removed in 1.2. Use one of the class methods: :meth:`sklearn.metric.RocCurveDisplay.from_predictions` or :meth:`sklearn.metric.RocCurveDisplay.from_estimator`.\n",
      "  warnings.warn(msg, category=FutureWarning)\n"
     ]
    },
    {
     "data": {
      "image/png": "[encoded data removed]",
      "text/plain": [
       "<Figure size 432x288 with 1 Axes>"
      ]
     },
     "metadata": {
      "needs_background": "light"
     },
     "output_type": "display_data"
    }
   ],
   "source": [
    "# Plotting ROC curve and calculate AUC\n",
    "plot_roc_curve(gs_log_reg, X_test, y_test);"
   ]
  },
  {
   "cell_type": "markdown",
   "id": "3c9fa2aa",
   "metadata": {
    "id": "STyeQMHDVCMn",
    "papermill": {
     "duration": 0.023354,
     "end_time": "2022-10-11T20:32:43.330411",
     "exception": false,
     "start_time": "2022-10-11T20:32:43.307057",
     "status": "completed"
    },
    "tags": []
   },
   "source": [
    "##### Confusion Matrix"
   ]
  },
  {
   "cell_type": "code",
   "execution_count": 22,
   "id": "a3120d21",
   "metadata": {
    "execution": {
     "iopub.execute_input": "2022-10-11T20:32:43.380548Z",
     "iopub.status.busy": "2022-10-11T20:32:43.379482Z",
     "iopub.status.idle": "2022-10-11T20:32:43.386202Z",
     "shell.execute_reply": "2022-10-11T20:32:43.385261Z"
    },
    "id": "rqVqEdkSYzQj",
    "papermill": {
     "duration": 0.033976,
     "end_time": "2022-10-11T20:32:43.388361",
     "exception": false,
     "start_time": "2022-10-11T20:32:43.354385",
     "status": "completed"
    },
    "tags": []
   },
   "outputs": [],
   "source": [
    "y_preds = gs_log_reg.predict(X_test)"
   ]
  },
  {
   "cell_type": "code",
   "execution_count": 23,
   "id": "1d7b0da9",
   "metadata": {
    "execution": {
     "iopub.execute_input": "2022-10-11T20:32:43.438227Z",
     "iopub.status.busy": "2022-10-11T20:32:43.437772Z",
     "iopub.status.idle": "2022-10-11T20:32:43.618618Z",
     "shell.execute_reply": "2022-10-11T20:32:43.617500Z"
    },
    "id": "HbNkfNU0VEfQ",
    "outputId": "902e843f-0cf2-4053-be68-d904ab0d59ac",
    "papermill": {
     "duration": 0.208203,
     "end_time": "2022-10-11T20:32:43.621028",
     "exception": false,
     "start_time": "2022-10-11T20:32:43.412825",
     "status": "completed"
    },
    "tags": []
   },
   "outputs": [
    {
     "data": {
      "image/png": "[encoded data removed]",
      "text/plain": [
       "<Figure size 216x216 with 1 Axes>"
      ]
     },
     "metadata": {},
     "output_type": "display_data"
    }
   ],
   "source": [
    "sns.set(font_scale=1.5)\n",
    " \n",
    "def plot_conf_mat(y_test, y_preds):\n",
    "    fig, ax = plt.subplots(figsize=(3, 3))\n",
    "    ax = sns.heatmap(confusion_matrix(y_test, y_preds),\n",
    "                     annot=True, # Annotate the boxes\n",
    "                     cbar=False)\n",
    "    plt.xlabel(\"Predicted label\") # predictions go on the x-axis\n",
    "    plt.ylabel(\"True label\") # true labels go on the y-axis \n",
    "    \n",
    "plot_conf_mat(y_test, y_preds)"
   ]
  },
  {
   "cell_type": "markdown",
   "id": "58e58529",
   "metadata": {
    "id": "5Z35xFtjaBvM",
    "papermill": {
     "duration": 0.024076,
     "end_time": "2022-10-11T20:32:43.669314",
     "exception": false,
     "start_time": "2022-10-11T20:32:43.645238",
     "status": "completed"
    },
    "tags": []
   },
   "source": [
    "##### Classification Report"
   ]
  },
  {
   "cell_type": "code",
   "execution_count": 24,
   "id": "cf85fd5b",
   "metadata": {
    "execution": {
     "iopub.execute_input": "2022-10-11T20:32:43.720264Z",
     "iopub.status.busy": "2022-10-11T20:32:43.719282Z",
     "iopub.status.idle": "2022-10-11T20:32:43.729088Z",
     "shell.execute_reply": "2022-10-11T20:32:43.727802Z"
    },
    "id": "OM8OJUHkY3Ob",
    "outputId": "2ec9a632-d79c-4be9-ab48-3fa4d712872b",
    "papermill": {
     "duration": 0.037641,
     "end_time": "2022-10-11T20:32:43.731315",
     "exception": false,
     "start_time": "2022-10-11T20:32:43.693674",
     "status": "completed"
    },
    "tags": []
   },
   "outputs": [
    {
     "name": "stdout",
     "output_type": "stream",
     "text": [
      "              precision    recall  f1-score   support\n",
      "\n",
      "           0       0.85      0.70      0.76       102\n",
      "           1       0.74      0.87      0.80       103\n",
      "\n",
      "    accuracy                           0.79       205\n",
      "   macro avg       0.79      0.78      0.78       205\n",
      "weighted avg       0.79      0.79      0.78       205\n",
      "\n"
     ]
    }
   ],
   "source": [
    "# For a single test set\n",
    "print(classification_report(y_test, y_preds))"
   ]
  },
  {
   "cell_type": "markdown",
   "id": "6cbf10b0",
   "metadata": {
    "id": "shLNP85Cb3Hp",
    "papermill": {
     "duration": 0.024682,
     "end_time": "2022-10-11T20:32:43.780376",
     "exception": false,
     "start_time": "2022-10-11T20:32:43.755694",
     "status": "completed"
    },
    "tags": []
   },
   "source": [
    "###### Using Cross-validation ( cross_val_score() )"
   ]
  },
  {
   "cell_type": "code",
   "execution_count": 25,
   "id": "0d78e41e",
   "metadata": {
    "execution": {
     "iopub.execute_input": "2022-10-11T20:32:43.832179Z",
     "iopub.status.busy": "2022-10-11T20:32:43.831435Z",
     "iopub.status.idle": "2022-10-11T20:32:43.837131Z",
     "shell.execute_reply": "2022-10-11T20:32:43.836342Z"
    },
    "id": "8ggnGBQea43j",
    "outputId": "faa7ae04-d47b-45ef-b68e-11cb83e83936",
    "papermill": {
     "duration": 0.033645,
     "end_time": "2022-10-11T20:32:43.839082",
     "exception": false,
     "start_time": "2022-10-11T20:32:43.805437",
     "status": "completed"
    },
    "tags": []
   },
   "outputs": [
    {
     "data": {
      "text/plain": [
       "{'C': 1.3738237958832638, 'solver': 'liblinear'}"
      ]
     },
     "execution_count": 25,
     "metadata": {},
     "output_type": "execute_result"
    }
   ],
   "source": [
    "#Checking best hyperparameters\n",
    "\n",
    "gs_log_reg.best_params_"
   ]
  },
  {
   "cell_type": "code",
   "execution_count": 26,
   "id": "36d8d108",
   "metadata": {
    "execution": {
     "iopub.execute_input": "2022-10-11T20:32:43.890450Z",
     "iopub.status.busy": "2022-10-11T20:32:43.889728Z",
     "iopub.status.idle": "2022-10-11T20:32:43.894027Z",
     "shell.execute_reply": "2022-10-11T20:32:43.893259Z"
    },
    "id": "K_DnBfdKcAK7",
    "papermill": {
     "duration": 0.032273,
     "end_time": "2022-10-11T20:32:43.895969",
     "exception": false,
     "start_time": "2022-10-11T20:32:43.863696",
     "status": "completed"
    },
    "tags": []
   },
   "outputs": [],
   "source": [
    "# Creating new classifier with the best params\n",
    "clf = LogisticRegression(C = 1.3738237958832638, solver = 'liblinear')"
   ]
  },
  {
   "cell_type": "code",
   "execution_count": 27,
   "id": "2dbb9b39",
   "metadata": {
    "execution": {
     "iopub.execute_input": "2022-10-11T20:32:43.950597Z",
     "iopub.status.busy": "2022-10-11T20:32:43.949872Z",
     "iopub.status.idle": "2022-10-11T20:32:44.019771Z",
     "shell.execute_reply": "2022-10-11T20:32:44.018657Z"
    },
    "id": "qhMyiSBbcXF2",
    "outputId": "41eca0b1-1482-405b-eb52-9555743037ef",
    "papermill": {
     "duration": 0.100184,
     "end_time": "2022-10-11T20:32:44.022015",
     "exception": false,
     "start_time": "2022-10-11T20:32:43.921831",
     "status": "completed"
    },
    "tags": []
   },
   "outputs": [
    {
     "data": {
      "text/plain": [
       "0.8478048780487806"
      ]
     },
     "execution_count": 27,
     "metadata": {},
     "output_type": "execute_result"
    }
   ],
   "source": [
    "# Cross-validated accuracy\n",
    "\n",
    "cv_acc = cross_val_score(clf,\n",
    "                         X,\n",
    "                         y,\n",
    "                         cv = 5,\n",
    "                         scoring = 'accuracy')\n",
    "\n",
    "cv_acc = np.mean(cv_acc)\n",
    "cv_acc"
   ]
  },
  {
   "cell_type": "code",
   "execution_count": 28,
   "id": "d3bd02be",
   "metadata": {
    "execution": {
     "iopub.execute_input": "2022-10-11T20:32:44.072756Z",
     "iopub.status.busy": "2022-10-11T20:32:44.072347Z",
     "iopub.status.idle": "2022-10-11T20:32:44.145327Z",
     "shell.execute_reply": "2022-10-11T20:32:44.144204Z"
    },
    "id": "fHtMR0FscW-g",
    "outputId": "703747e0-7c89-4e1f-ac6b-be0dce31663c",
    "papermill": {
     "duration": 0.101137,
     "end_time": "2022-10-11T20:32:44.147889",
     "exception": false,
     "start_time": "2022-10-11T20:32:44.046752",
     "status": "completed"
    },
    "tags": []
   },
   "outputs": [
    {
     "data": {
      "text/plain": [
       "0.8226314773669621"
      ]
     },
     "execution_count": 28,
     "metadata": {},
     "output_type": "execute_result"
    }
   ],
   "source": [
    "# Cross-validated precision\n",
    "cv_precision = cross_val_score(clf,\n",
    "                         X,\n",
    "                         y,\n",
    "                         cv = 5,\n",
    "                         scoring = 'precision')\n",
    "\n",
    "cv_precision = np.mean(cv_precision)\n",
    "cv_precision"
   ]
  },
  {
   "cell_type": "code",
   "execution_count": 29,
   "id": "3caa06d9",
   "metadata": {
    "execution": {
     "iopub.execute_input": "2022-10-11T20:32:44.201687Z",
     "iopub.status.busy": "2022-10-11T20:32:44.201284Z",
     "iopub.status.idle": "2022-10-11T20:32:44.273033Z",
     "shell.execute_reply": "2022-10-11T20:32:44.271795Z"
    },
    "id": "zmrbMaC7cW7q",
    "outputId": "81e8f1b4-dc3e-4aed-93be-38bf2a9a1797",
    "papermill": {
     "duration": 0.102695,
     "end_time": "2022-10-11T20:32:44.275350",
     "exception": false,
     "start_time": "2022-10-11T20:32:44.172655",
     "status": "completed"
    },
    "tags": []
   },
   "outputs": [
    {
     "data": {
      "text/plain": [
       "0.8974303683737646"
      ]
     },
     "execution_count": 29,
     "metadata": {},
     "output_type": "execute_result"
    }
   ],
   "source": [
    "# Cross-validated recall\n",
    "cv_recall = cross_val_score(clf,\n",
    "                         X,\n",
    "                         y,\n",
    "                         cv = 5,\n",
    "                         scoring = 'recall')\n",
    "\n",
    "cv_recall = np.mean(cv_recall)\n",
    "cv_recall"
   ]
  },
  {
   "cell_type": "code",
   "execution_count": 30,
   "id": "6917f534",
   "metadata": {
    "execution": {
     "iopub.execute_input": "2022-10-11T20:32:44.329985Z",
     "iopub.status.busy": "2022-10-11T20:32:44.329558Z",
     "iopub.status.idle": "2022-10-11T20:32:44.416787Z",
     "shell.execute_reply": "2022-10-11T20:32:44.415949Z"
    },
    "id": "gaNiS_-EdOlF",
    "outputId": "34ca6118-7bce-440c-9f13-2da3b0bb983f",
    "papermill": {
     "duration": 0.118685,
     "end_time": "2022-10-11T20:32:44.419071",
     "exception": false,
     "start_time": "2022-10-11T20:32:44.300386",
     "status": "completed"
    },
    "tags": []
   },
   "outputs": [
    {
     "data": {
      "text/plain": [
       "0.8583430306540801"
      ]
     },
     "execution_count": 30,
     "metadata": {},
     "output_type": "execute_result"
    }
   ],
   "source": [
    "# Cross-validated F1-score\n",
    "cv_f1 = cross_val_score(clf,\n",
    "                         X,\n",
    "                         y,\n",
    "                         cv = 5,\n",
    "                         scoring = 'f1')\n",
    "\n",
    "cv_f1 = np.mean(cv_f1)\n",
    "cv_f1"
   ]
  },
  {
   "cell_type": "code",
   "execution_count": 31,
   "id": "0e12b404",
   "metadata": {
    "execution": {
     "iopub.execute_input": "2022-10-11T20:32:44.471789Z",
     "iopub.status.busy": "2022-10-11T20:32:44.470703Z",
     "iopub.status.idle": "2022-10-11T20:32:44.693300Z",
     "shell.execute_reply": "2022-10-11T20:32:44.692487Z"
    },
    "id": "saiOAqpFdf5u",
    "outputId": "e02c788a-3239-49e2-c7e6-fd97141aba03",
    "papermill": {
     "duration": 0.251207,
     "end_time": "2022-10-11T20:32:44.695336",
     "exception": false,
     "start_time": "2022-10-11T20:32:44.444129",
     "status": "completed"
    },
    "tags": []
   },
   "outputs": [
    {
     "data": {
      "image/png": "[encoded data removed]",
      "text/plain": [
       "<Figure size 432x288 with 1 Axes>"
      ]
     },
     "metadata": {},
     "output_type": "display_data"
    }
   ],
   "source": [
    "cv_metrics = pd.DataFrame({'Accuracy': cv_acc,\n",
    "                           'Precision': cv_precision,\n",
    "                           'Recall': cv_recall,\n",
    "                           'F1': cv_f1},\n",
    "                          index=[0])\n",
    "\n",
    "cv_metrics.T.plot.bar(title= 'Cross-validated classification metrics', legend = False);"
   ]
  },
  {
   "cell_type": "markdown",
   "id": "8b89fb01",
   "metadata": {
    "id": "vtf3QycegZAH",
    "papermill": {
     "duration": 0.024881,
     "end_time": "2022-10-11T20:32:44.745452",
     "exception": false,
     "start_time": "2022-10-11T20:32:44.720571",
     "status": "completed"
    },
    "tags": []
   },
   "source": [
    "##### Feature Importance"
   ]
  },
  {
   "cell_type": "code",
   "execution_count": 32,
   "id": "05763031",
   "metadata": {
    "execution": {
     "iopub.execute_input": "2022-10-11T20:32:44.798631Z",
     "iopub.status.busy": "2022-10-11T20:32:44.797926Z",
     "iopub.status.idle": "2022-10-11T20:32:44.814113Z",
     "shell.execute_reply": "2022-10-11T20:32:44.812707Z"
    },
    "id": "T0pZuHEyhWZM",
    "outputId": "9f37173f-91a7-4bd9-fa03-ab1942f7ddb3",
    "papermill": {
     "duration": 0.046594,
     "end_time": "2022-10-11T20:32:44.817265",
     "exception": false,
     "start_time": "2022-10-11T20:32:44.770671",
     "status": "completed"
    },
    "tags": []
   },
   "outputs": [
    {
     "data": {
      "text/plain": [
       "LogisticRegression(C=1.3738237958832638, solver='liblinear')"
      ]
     },
     "execution_count": 32,
     "metadata": {},
     "output_type": "execute_result"
    }
   ],
   "source": [
    "# Using the LogisticRegression instance that was created in the previous section\n",
    "\n",
    "clf.fit(X_train, y_train)"
   ]
  },
  {
   "cell_type": "code",
   "execution_count": 33,
   "id": "e2e402f2",
   "metadata": {
    "execution": {
     "iopub.execute_input": "2022-10-11T20:32:44.871148Z",
     "iopub.status.busy": "2022-10-11T20:32:44.870291Z",
     "iopub.status.idle": "2022-10-11T20:32:44.875958Z",
     "shell.execute_reply": "2022-10-11T20:32:44.874777Z"
    },
    "id": "dMIPOQMchpKQ",
    "papermill": {
     "duration": 0.034915,
     "end_time": "2022-10-11T20:32:44.878249",
     "exception": false,
     "start_time": "2022-10-11T20:32:44.843334",
     "status": "completed"
    },
    "tags": []
   },
   "outputs": [],
   "source": [
    "# Checking the coef_\n",
    "clf.coef_\n",
    "# Match coef's of features to columns\n",
    "feature_dict = dict(zip(df.columns, list(clf.coef_[0])))"
   ]
  },
  {
   "cell_type": "code",
   "execution_count": 34,
   "id": "534a4b21",
   "metadata": {
    "execution": {
     "iopub.execute_input": "2022-10-11T20:32:44.931297Z",
     "iopub.status.busy": "2022-10-11T20:32:44.930656Z",
     "iopub.status.idle": "2022-10-11T20:32:45.237726Z",
     "shell.execute_reply": "2022-10-11T20:32:45.236613Z"
    },
    "id": "tU6Mt1dOiFt0",
    "outputId": "e3d97400-bb5a-4e7b-8680-76026ef785dd",
    "papermill": {
     "duration": 0.336446,
     "end_time": "2022-10-11T20:32:45.240057",
     "exception": false,
     "start_time": "2022-10-11T20:32:44.903611",
     "status": "completed"
    },
    "tags": []
   },
   "outputs": [
    {
     "data": {
      "image/png": "[encoded data removed]",
      "text/plain": [
       "<Figure size 432x288 with 1 Axes>"
      ]
     },
     "metadata": {},
     "output_type": "display_data"
    }
   ],
   "source": [
    "feature_df = pd.DataFrame(feature_dict, index = [0])\n",
    "feature_df.T.plot.bar(title = 'Feature Importance', legend = False);"
   ]
  },
  {
   "cell_type": "markdown",
   "id": "9eec9648",
   "metadata": {
    "id": "zqE0-x3q8m1O",
    "papermill": {
     "duration": 0.025391,
     "end_time": "2022-10-11T20:32:45.291143",
     "exception": false,
     "start_time": "2022-10-11T20:32:45.265752",
     "status": "completed"
    },
    "tags": []
   },
   "source": [
    "### K-Nearest Neighbours Classifier\n"
   ]
  },
  {
   "cell_type": "code",
   "execution_count": 35,
   "id": "e3e81e49",
   "metadata": {
    "execution": {
     "iopub.execute_input": "2022-10-11T20:32:45.344785Z",
     "iopub.status.busy": "2022-10-11T20:32:45.344145Z",
     "iopub.status.idle": "2022-10-11T20:32:45.364642Z",
     "shell.execute_reply": "2022-10-11T20:32:45.363579Z"
    },
    "id": "KpGsZcRzzbTE",
    "outputId": "9e858520-2ae5-4844-e898-96b3b2f2ddb4",
    "papermill": {
     "duration": 0.050173,
     "end_time": "2022-10-11T20:32:45.367010",
     "exception": false,
     "start_time": "2022-10-11T20:32:45.316837",
     "status": "completed"
    },
    "tags": []
   },
   "outputs": [
    {
     "data": {
      "text/plain": [
       "0.7342995169082126"
      ]
     },
     "execution_count": 35,
     "metadata": {},
     "output_type": "execute_result"
    }
   ],
   "source": [
    "knn = KNeighborsClassifier()\n",
    "knn.fit(X_train, y_train)\n",
    "knn_score = metrics.f1_score(y_test, knn.predict(X_test))\n",
    "knn_score"
   ]
  },
  {
   "cell_type": "markdown",
   "id": "847f8d51",
   "metadata": {
    "id": "eiXqLBMN7zhz",
    "papermill": {
     "duration": 0.026249,
     "end_time": "2022-10-11T20:32:45.419671",
     "exception": false,
     "start_time": "2022-10-11T20:32:45.393422",
     "status": "completed"
    },
    "tags": []
   },
   "source": [
    "#### KNN tunning"
   ]
  },
  {
   "cell_type": "code",
   "execution_count": 36,
   "id": "3d573648",
   "metadata": {
    "execution": {
     "iopub.execute_input": "2022-10-11T20:32:45.473595Z",
     "iopub.status.busy": "2022-10-11T20:32:45.473183Z",
     "iopub.status.idle": "2022-10-11T20:32:46.470874Z",
     "shell.execute_reply": "2022-10-11T20:32:46.470067Z"
    },
    "id": "F_XTHpTj76qE",
    "papermill": {
     "duration": 1.027383,
     "end_time": "2022-10-11T20:32:46.473388",
     "exception": false,
     "start_time": "2022-10-11T20:32:45.446005",
     "status": "completed"
    },
    "tags": []
   },
   "outputs": [],
   "source": [
    "train_scores = []\n",
    "test_scores = []\n",
    "\n",
    "neighbors = range(1, 21)\n",
    "\n",
    "knn = KNeighborsClassifier()\n",
    "\n",
    "for i in neighbors:\n",
    "  knn.set_params(algorithm='auto', leaf_size=45, p=1, n_neighbors=i)\n",
    "  knn.fit(X_train, y_train)\n",
    "  train_scores.append(knn.score(X_train, y_train))\n",
    "  test_scores.append(knn.score(X_test, y_test))"
   ]
  },
  {
   "cell_type": "code",
   "execution_count": 37,
   "id": "d8622a93",
   "metadata": {
    "execution": {
     "iopub.execute_input": "2022-10-11T20:32:46.527879Z",
     "iopub.status.busy": "2022-10-11T20:32:46.527199Z",
     "iopub.status.idle": "2022-10-11T20:32:46.890619Z",
     "shell.execute_reply": "2022-10-11T20:32:46.889487Z"
    },
    "id": "gZawKbuW8aSl",
    "outputId": "f7eb1297-96a1-4ddd-ee52-ea0a7a62fc72",
    "papermill": {
     "duration": 0.392946,
     "end_time": "2022-10-11T20:32:46.892829",
     "exception": false,
     "start_time": "2022-10-11T20:32:46.499883",
     "status": "completed"
    },
    "tags": []
   },
   "outputs": [
    {
     "name": "stdout",
     "output_type": "stream",
     "text": [
      "Maximum KNN score on the test data: 98.54%\n"
     ]
    },
    {
     "data": {
      "image/png": "[encoded data removed]",
      "text/plain": [
       "<Figure size 432x288 with 1 Axes>"
      ]
     },
     "metadata": {},
     "output_type": "display_data"
    }
   ],
   "source": [
    "plt.plot(neighbors, train_scores, label = 'Train Score')\n",
    "plt.plot(neighbors, test_scores, label = 'Test score')\n",
    "plt.xticks(np.arange(1, 21, 1))\n",
    "plt.xlabel('Number of neighbors')\n",
    "plt.ylabel('Model score')\n",
    "plt.legend()\n",
    "\n",
    "print(f'Maximum KNN score on the test data: {max(test_scores)*100:.2f}%')\n"
   ]
  },
  {
   "cell_type": "markdown",
   "id": "b26d081a",
   "metadata": {
    "id": "rKhYrccSnx9n",
    "papermill": {
     "duration": 0.033154,
     "end_time": "2022-10-11T20:32:46.954030",
     "exception": false,
     "start_time": "2022-10-11T20:32:46.920876",
     "status": "completed"
    },
    "tags": []
   },
   "source": [
    "#### Model Evaluation"
   ]
  },
  {
   "cell_type": "markdown",
   "id": "2cf06143",
   "metadata": {
    "id": "l7kGThOLnx9n",
    "papermill": {
     "duration": 0.035885,
     "end_time": "2022-10-11T20:32:47.027547",
     "exception": false,
     "start_time": "2022-10-11T20:32:46.991662",
     "status": "completed"
    },
    "tags": []
   },
   "source": [
    "##### ROC"
   ]
  },
  {
   "cell_type": "code",
   "execution_count": 38,
   "id": "871dc81d",
   "metadata": {
    "execution": {
     "iopub.execute_input": "2022-10-11T20:32:47.082634Z",
     "iopub.status.busy": "2022-10-11T20:32:47.082212Z",
     "iopub.status.idle": "2022-10-11T20:32:47.119112Z",
     "shell.execute_reply": "2022-10-11T20:32:47.118052Z"
    },
    "id": "suwPrWJJoyL5",
    "outputId": "9c7cd4e7-8fba-42e7-d8b4-86a506e46837",
    "papermill": {
     "duration": 0.066865,
     "end_time": "2022-10-11T20:32:47.121443",
     "exception": false,
     "start_time": "2022-10-11T20:32:47.054578",
     "status": "completed"
    },
    "tags": []
   },
   "outputs": [
    {
     "data": {
      "text/plain": [
       "0.7048780487804878"
      ]
     },
     "execution_count": 38,
     "metadata": {},
     "output_type": "execute_result"
    }
   ],
   "source": [
    "knn_best_param = knn.set_params(algorithm='auto', leaf_size=45, p=1, n_neighbors=5)\n",
    "knn_best_param.fit(X_test, y_test)\n",
    "knn_best_param.score(X_train, y_train)"
   ]
  },
  {
   "cell_type": "code",
   "execution_count": 39,
   "id": "956065a1",
   "metadata": {
    "execution": {
     "iopub.execute_input": "2022-10-11T20:32:47.176209Z",
     "iopub.status.busy": "2022-10-11T20:32:47.175791Z",
     "iopub.status.idle": "2022-10-11T20:32:47.467512Z",
     "shell.execute_reply": "2022-10-11T20:32:47.466721Z"
    },
    "id": "63M5WT3Cnx9n",
    "outputId": "5d781f37-cbd9-41bb-8229-d0e168462791",
    "papermill": {
     "duration": 0.321729,
     "end_time": "2022-10-11T20:32:47.469705",
     "exception": false,
     "start_time": "2022-10-11T20:32:47.147976",
     "status": "completed"
    },
    "tags": []
   },
   "outputs": [
    {
     "name": "stderr",
     "output_type": "stream",
     "text": [
      "/opt/conda/lib/python3.7/site-packages/sklearn/utils/deprecation.py:87: FutureWarning: Function plot_roc_curve is deprecated; Function :func:`plot_roc_curve` is deprecated in 1.0 and will be removed in 1.2. Use one of the class methods: :meth:`sklearn.metric.RocCurveDisplay.from_predictions` or :meth:`sklearn.metric.RocCurveDisplay.from_estimator`.\n",
      "  warnings.warn(msg, category=FutureWarning)\n"
     ]
    },
    {
     "data": {
      "image/png": "[encoded data removed]",
      "text/plain": [
       "<Figure size 432x288 with 1 Axes>"
      ]
     },
     "metadata": {},
     "output_type": "display_data"
    }
   ],
   "source": [
    "# Plotting ROC curve and calculate AUC\n",
    "plot_roc_curve(knn_best_param, X_test, y_test);"
   ]
  },
  {
   "cell_type": "markdown",
   "id": "0237f3d0",
   "metadata": {
    "id": "WgyxMItqnx9o",
    "papermill": {
     "duration": 0.026671,
     "end_time": "2022-10-11T20:32:47.523875",
     "exception": false,
     "start_time": "2022-10-11T20:32:47.497204",
     "status": "completed"
    },
    "tags": []
   },
   "source": [
    "##### Confusion Matrix"
   ]
  },
  {
   "cell_type": "code",
   "execution_count": 40,
   "id": "5bf29d5b",
   "metadata": {
    "execution": {
     "iopub.execute_input": "2022-10-11T20:32:47.579948Z",
     "iopub.status.busy": "2022-10-11T20:32:47.579518Z",
     "iopub.status.idle": "2022-10-11T20:32:47.593506Z",
     "shell.execute_reply": "2022-10-11T20:32:47.592418Z"
    },
    "id": "bUaXmH_Unx9o",
    "papermill": {
     "duration": 0.044824,
     "end_time": "2022-10-11T20:32:47.595871",
     "exception": false,
     "start_time": "2022-10-11T20:32:47.551047",
     "status": "completed"
    },
    "tags": []
   },
   "outputs": [],
   "source": [
    "y_preds = knn_best_param.predict(X_test)"
   ]
  },
  {
   "cell_type": "code",
   "execution_count": 41,
   "id": "7cf589ae",
   "metadata": {
    "execution": {
     "iopub.execute_input": "2022-10-11T20:32:47.652449Z",
     "iopub.status.busy": "2022-10-11T20:32:47.652046Z",
     "iopub.status.idle": "2022-10-11T20:32:47.826230Z",
     "shell.execute_reply": "2022-10-11T20:32:47.825110Z"
    },
    "id": "H-j8EpZMnx9o",
    "outputId": "6b7143bd-c3ae-4ac1-c0f6-273eeab5ff8a",
    "papermill": {
     "duration": 0.205096,
     "end_time": "2022-10-11T20:32:47.828519",
     "exception": false,
     "start_time": "2022-10-11T20:32:47.623423",
     "status": "completed"
    },
    "tags": []
   },
   "outputs": [
    {
     "data": {
      "image/png": "[encoded data removed]",
      "text/plain": [
       "<Figure size 216x216 with 1 Axes>"
      ]
     },
     "metadata": {},
     "output_type": "display_data"
    }
   ],
   "source": [
    "sns.set(font_scale=1.5)\n",
    " \n",
    "def plot_conf_mat(y_test, y_preds):\n",
    "    fig, ax = plt.subplots(figsize=(3, 3))\n",
    "    ax = sns.heatmap(confusion_matrix(y_test, y_preds),\n",
    "                     annot=True, # Annotate the boxes\n",
    "                     cbar=False)\n",
    "    plt.xlabel(\"Predicted label\") # predictions go on the x-axis\n",
    "    plt.ylabel(\"True label\") # true labels go on the y-axis \n",
    "    \n",
    "plot_conf_mat(y_test, y_preds)"
   ]
  },
  {
   "cell_type": "markdown",
   "id": "d08a987d",
   "metadata": {
    "id": "EoslyH1cnx9o",
    "papermill": {
     "duration": 0.02776,
     "end_time": "2022-10-11T20:32:47.884120",
     "exception": false,
     "start_time": "2022-10-11T20:32:47.856360",
     "status": "completed"
    },
    "tags": []
   },
   "source": [
    "##### Classification Report"
   ]
  },
  {
   "cell_type": "code",
   "execution_count": 42,
   "id": "2faf5a9c",
   "metadata": {
    "execution": {
     "iopub.execute_input": "2022-10-11T20:32:47.941669Z",
     "iopub.status.busy": "2022-10-11T20:32:47.940988Z",
     "iopub.status.idle": "2022-10-11T20:32:47.951529Z",
     "shell.execute_reply": "2022-10-11T20:32:47.949901Z"
    },
    "id": "woMxH8mznx9o",
    "outputId": "ce705f6c-f3c5-4805-d72a-aede7d9bf842",
    "papermill": {
     "duration": 0.04196,
     "end_time": "2022-10-11T20:32:47.953923",
     "exception": false,
     "start_time": "2022-10-11T20:32:47.911963",
     "status": "completed"
    },
    "tags": []
   },
   "outputs": [
    {
     "name": "stdout",
     "output_type": "stream",
     "text": [
      "              precision    recall  f1-score   support\n",
      "\n",
      "           0       0.79      0.83      0.81       102\n",
      "           1       0.82      0.78      0.80       103\n",
      "\n",
      "    accuracy                           0.80       205\n",
      "   macro avg       0.81      0.81      0.80       205\n",
      "weighted avg       0.81      0.80      0.80       205\n",
      "\n"
     ]
    }
   ],
   "source": [
    "# For a single test set\n",
    "print(classification_report(y_test, y_preds))"
   ]
  },
  {
   "cell_type": "markdown",
   "id": "3eb57caa",
   "metadata": {
    "id": "7Co_G7aPnx9o",
    "papermill": {
     "duration": 0.027355,
     "end_time": "2022-10-11T20:32:48.009305",
     "exception": false,
     "start_time": "2022-10-11T20:32:47.981950",
     "status": "completed"
    },
    "tags": []
   },
   "source": [
    "###### Using Cross-validation ( cross_val_score() )"
   ]
  },
  {
   "cell_type": "code",
   "execution_count": 43,
   "id": "29777059",
   "metadata": {
    "execution": {
     "iopub.execute_input": "2022-10-11T20:32:48.066781Z",
     "iopub.status.busy": "2022-10-11T20:32:48.065774Z",
     "iopub.status.idle": "2022-10-11T20:32:48.138797Z",
     "shell.execute_reply": "2022-10-11T20:32:48.138016Z"
    },
    "id": "NkFSaJYCnx9o",
    "outputId": "6536050d-0a7a-433c-f657-5ffd0a5e2d48",
    "papermill": {
     "duration": 0.103606,
     "end_time": "2022-10-11T20:32:48.140942",
     "exception": false,
     "start_time": "2022-10-11T20:32:48.037336",
     "status": "completed"
    },
    "tags": []
   },
   "outputs": [
    {
     "data": {
      "text/plain": [
       "0.7746341463414634"
      ]
     },
     "execution_count": 43,
     "metadata": {},
     "output_type": "execute_result"
    }
   ],
   "source": [
    "# Cross-validated accuracy\n",
    "\n",
    "cv_acc = cross_val_score(knn_best_param,\n",
    "                         X,\n",
    "                         y,\n",
    "                         cv = 5,\n",
    "                         scoring = 'accuracy')\n",
    "\n",
    "cv_acc = np.mean(cv_acc)\n",
    "cv_acc"
   ]
  },
  {
   "cell_type": "code",
   "execution_count": 44,
   "id": "1b8f26da",
   "metadata": {
    "execution": {
     "iopub.execute_input": "2022-10-11T20:32:48.199012Z",
     "iopub.status.busy": "2022-10-11T20:32:48.198373Z",
     "iopub.status.idle": "2022-10-11T20:32:48.275054Z",
     "shell.execute_reply": "2022-10-11T20:32:48.274212Z"
    },
    "id": "gibH5rXznx9p",
    "outputId": "dae96be3-218c-4bb2-f6ce-b9c673f44c95",
    "papermill": {
     "duration": 0.108212,
     "end_time": "2022-10-11T20:32:48.277286",
     "exception": false,
     "start_time": "2022-10-11T20:32:48.169074",
     "status": "completed"
    },
    "tags": []
   },
   "outputs": [
    {
     "data": {
      "text/plain": [
       "0.7979260871738356"
      ]
     },
     "execution_count": 44,
     "metadata": {},
     "output_type": "execute_result"
    }
   ],
   "source": [
    "# Cross-validated precision\n",
    "cv_precision = cross_val_score(knn_best_param,\n",
    "                         X,\n",
    "                         y,\n",
    "                         cv = 5,\n",
    "                         scoring = 'precision')\n",
    "\n",
    "cv_precision = np.mean(cv_precision)\n",
    "cv_precision"
   ]
  },
  {
   "cell_type": "code",
   "execution_count": 45,
   "id": "b180640a",
   "metadata": {
    "execution": {
     "iopub.execute_input": "2022-10-11T20:32:48.335550Z",
     "iopub.status.busy": "2022-10-11T20:32:48.335142Z",
     "iopub.status.idle": "2022-10-11T20:32:48.413032Z",
     "shell.execute_reply": "2022-10-11T20:32:48.412251Z"
    },
    "id": "8JSj09Avnx9p",
    "outputId": "82cccf69-9a4d-42e2-e5d4-4814d37cef01",
    "papermill": {
     "duration": 0.109797,
     "end_time": "2022-10-11T20:32:48.415018",
     "exception": false,
     "start_time": "2022-10-11T20:32:48.305221",
     "status": "completed"
    },
    "tags": []
   },
   "outputs": [
    {
     "data": {
      "text/plain": [
       "0.7547529200359389"
      ]
     },
     "execution_count": 45,
     "metadata": {},
     "output_type": "execute_result"
    }
   ],
   "source": [
    "# Cross-validated recall\n",
    "cv_recall = cross_val_score(knn_best_param,\n",
    "                         X,\n",
    "                         y,\n",
    "                         cv = 5,\n",
    "                         scoring = 'recall')\n",
    "\n",
    "cv_recall = np.mean(cv_recall)\n",
    "cv_recall"
   ]
  },
  {
   "cell_type": "code",
   "execution_count": 46,
   "id": "f4ca6c10",
   "metadata": {
    "execution": {
     "iopub.execute_input": "2022-10-11T20:32:48.472645Z",
     "iopub.status.busy": "2022-10-11T20:32:48.471975Z",
     "iopub.status.idle": "2022-10-11T20:32:48.549183Z",
     "shell.execute_reply": "2022-10-11T20:32:48.548163Z"
    },
    "id": "NPlx81vpnx9p",
    "outputId": "2d0fca87-4362-4bfe-8ef3-5d52f2cc07ad",
    "papermill": {
     "duration": 0.108828,
     "end_time": "2022-10-11T20:32:48.551786",
     "exception": false,
     "start_time": "2022-10-11T20:32:48.442958",
     "status": "completed"
    },
    "tags": []
   },
   "outputs": [
    {
     "data": {
      "text/plain": [
       "0.7747553112275909"
      ]
     },
     "execution_count": 46,
     "metadata": {},
     "output_type": "execute_result"
    }
   ],
   "source": [
    "# Cross-validated F1-score\n",
    "cv_f1 = cross_val_score(knn_best_param,\n",
    "                         X,\n",
    "                         y,\n",
    "                         cv = 5,\n",
    "                         scoring = 'f1')\n",
    "\n",
    "cv_f1 = np.mean(cv_f1)\n",
    "cv_f1"
   ]
  },
  {
   "cell_type": "code",
   "execution_count": 47,
   "id": "93eff2ac",
   "metadata": {
    "execution": {
     "iopub.execute_input": "2022-10-11T20:32:48.611019Z",
     "iopub.status.busy": "2022-10-11T20:32:48.610345Z",
     "iopub.status.idle": "2022-10-11T20:32:48.829756Z",
     "shell.execute_reply": "2022-10-11T20:32:48.828672Z"
    },
    "id": "xUew0jMqnx9p",
    "outputId": "057f9d84-f657-44ff-da4d-09c32bbd29cd",
    "papermill": {
     "duration": 0.251903,
     "end_time": "2022-10-11T20:32:48.832073",
     "exception": false,
     "start_time": "2022-10-11T20:32:48.580170",
     "status": "completed"
    },
    "tags": []
   },
   "outputs": [
    {
     "data": {
      "image/png": "[encoded data removed]",
      "text/plain": [
       "<Figure size 432x288 with 1 Axes>"
      ]
     },
     "metadata": {},
     "output_type": "display_data"
    }
   ],
   "source": [
    "cv_metrics = pd.DataFrame({'Accuracy': cv_acc,\n",
    "                           'Precision': cv_precision,\n",
    "                           'Recall': cv_recall,\n",
    "                           'F1': cv_f1},\n",
    "                          index=[0])\n",
    "\n",
    "cv_metrics.T.plot.bar(title= 'Cross-validated classification metrics', legend = False);"
   ]
  },
  {
   "cell_type": "markdown",
   "id": "4e04c948",
   "metadata": {
    "id": "2icOkC6S8mq3",
    "papermill": {
     "duration": 0.028251,
     "end_time": "2022-10-11T20:32:48.888889",
     "exception": false,
     "start_time": "2022-10-11T20:32:48.860638",
     "status": "completed"
    },
    "tags": []
   },
   "source": [
    "### Random Forest Classifier"
   ]
  },
  {
   "cell_type": "markdown",
   "id": "17c97a1b",
   "metadata": {
    "id": "_p7PH1rCPkHq",
    "papermill": {
     "duration": 0.028256,
     "end_time": "2022-10-11T20:32:48.945549",
     "exception": false,
     "start_time": "2022-10-11T20:32:48.917293",
     "status": "completed"
    },
    "tags": []
   },
   "source": [
    "##### Hyperparamter using RandomizedSearchCV"
   ]
  },
  {
   "cell_type": "code",
   "execution_count": 48,
   "id": "b683a102",
   "metadata": {
    "execution": {
     "iopub.execute_input": "2022-10-11T20:32:49.004120Z",
     "iopub.status.busy": "2022-10-11T20:32:49.003234Z",
     "iopub.status.idle": "2022-10-11T20:32:49.008837Z",
     "shell.execute_reply": "2022-10-11T20:32:49.008073Z"
    },
    "id": "V81FBKW4LBdw",
    "papermill": {
     "duration": 0.036869,
     "end_time": "2022-10-11T20:32:49.010766",
     "exception": false,
     "start_time": "2022-10-11T20:32:48.973897",
     "status": "completed"
    },
    "tags": []
   },
   "outputs": [],
   "source": [
    "rand_for_grid = {'n_estimators': np.arange(10, 1000, 50),\n",
    "               'max_depth': [None, 3, 5, 10],\n",
    "               'min_samples_split': np.arange(2, 20, 2),\n",
    "               'min_samples_leaf': np.arange(1, 20, 2)}"
   ]
  },
  {
   "cell_type": "code",
   "execution_count": 49,
   "id": "2c8d8f74",
   "metadata": {
    "execution": {
     "iopub.execute_input": "2022-10-11T20:32:49.069564Z",
     "iopub.status.busy": "2022-10-11T20:32:49.068837Z",
     "iopub.status.idle": "2022-10-11T20:32:49.281295Z",
     "shell.execute_reply": "2022-10-11T20:32:49.280309Z"
    },
    "id": "gjblgsyo78iZ",
    "outputId": "92900b9f-92a4-477a-d268-583789e72e33",
    "papermill": {
     "duration": 0.244888,
     "end_time": "2022-10-11T20:32:49.284079",
     "exception": false,
     "start_time": "2022-10-11T20:32:49.039191",
     "status": "completed"
    },
    "tags": []
   },
   "outputs": [
    {
     "data": {
      "text/plain": [
       "0.9852216748768473"
      ]
     },
     "execution_count": 49,
     "metadata": {},
     "output_type": "execute_result"
    }
   ],
   "source": [
    "random_forest = RandomForestClassifier()\n",
    "random_forest.fit(X_train, y_train)\n",
    "rand_for_score = metrics.f1_score(y_test, random_forest.predict(X_test))\n",
    "rand_for_score"
   ]
  },
  {
   "cell_type": "code",
   "execution_count": 50,
   "id": "158a9418",
   "metadata": {
    "execution": {
     "iopub.execute_input": "2022-10-11T20:32:49.347675Z",
     "iopub.status.busy": "2022-10-11T20:32:49.347278Z",
     "iopub.status.idle": "2022-10-11T20:34:17.637494Z",
     "shell.execute_reply": "2022-10-11T20:34:17.636410Z"
    },
    "id": "4K06I4T6NKDM",
    "outputId": "1b182b5e-8ef3-4579-b11c-9f84d9eb6844",
    "papermill": {
     "duration": 88.355435,
     "end_time": "2022-10-11T20:34:17.669606",
     "exception": false,
     "start_time": "2022-10-11T20:32:49.314171",
     "status": "completed"
    },
    "tags": []
   },
   "outputs": [
    {
     "name": "stdout",
     "output_type": "stream",
     "text": [
      "Fitting 5 folds for each of 20 candidates, totalling 100 fits\n"
     ]
    },
    {
     "data": {
      "text/plain": [
       "RandomizedSearchCV(cv=5, estimator=RandomForestClassifier(), n_iter=20,\n",
       "                   param_distributions={'max_depth': [None, 3, 5, 10],\n",
       "                                        'min_samples_leaf': array([ 1,  3,  5,  7,  9, 11, 13, 15, 17, 19]),\n",
       "                                        'min_samples_split': array([ 2,  4,  6,  8, 10, 12, 14, 16, 18]),\n",
       "                                        'n_estimators': array([ 10,  60, 110, 160, 210, 260, 310, 360, 410, 460, 510, 560, 610,\n",
       "       660, 710, 760, 810, 860, 910, 960])},\n",
       "                   verbose=True)"
      ]
     },
     "execution_count": 50,
     "metadata": {},
     "output_type": "execute_result"
    }
   ],
   "source": [
    "\n",
    "np.random.seed(42)\n",
    "\n",
    "random_search_rand_for = RandomizedSearchCV(RandomForestClassifier(),\n",
    "                                            param_distributions = rand_for_grid,\n",
    "                                            cv= 5,\n",
    "                                            n_iter = 20,\n",
    "                                            verbose = True)\n",
    "random_search_rand_for.fit(X_train, y_train)"
   ]
  },
  {
   "cell_type": "code",
   "execution_count": 51,
   "id": "505f4382",
   "metadata": {
    "execution": {
     "iopub.execute_input": "2022-10-11T20:34:17.731860Z",
     "iopub.status.busy": "2022-10-11T20:34:17.731402Z",
     "iopub.status.idle": "2022-10-11T20:34:17.738472Z",
     "shell.execute_reply": "2022-10-11T20:34:17.737326Z"
    },
    "id": "7gR6BuOPqAY-",
    "outputId": "ad609274-c93f-4578-ec6a-26c8fdef4b57",
    "papermill": {
     "duration": 0.040764,
     "end_time": "2022-10-11T20:34:17.740691",
     "exception": false,
     "start_time": "2022-10-11T20:34:17.699927",
     "status": "completed"
    },
    "tags": []
   },
   "outputs": [
    {
     "data": {
      "text/plain": [
       "{'n_estimators': 510,\n",
       " 'min_samples_split': 14,\n",
       " 'min_samples_leaf': 1,\n",
       " 'max_depth': None}"
      ]
     },
     "execution_count": 51,
     "metadata": {},
     "output_type": "execute_result"
    }
   ],
   "source": [
    "random_search_rand_for.best_params_"
   ]
  },
  {
   "cell_type": "code",
   "execution_count": 52,
   "id": "5e5ab970",
   "metadata": {
    "execution": {
     "iopub.execute_input": "2022-10-11T20:34:17.800916Z",
     "iopub.status.busy": "2022-10-11T20:34:17.800486Z",
     "iopub.status.idle": "2022-10-11T20:34:17.884390Z",
     "shell.execute_reply": "2022-10-11T20:34:17.883152Z"
    },
    "id": "_WWdCRyVOVu9",
    "outputId": "b8b38396-258f-4be1-fb13-5e8df51c4ab2",
    "papermill": {
     "duration": 0.117099,
     "end_time": "2022-10-11T20:34:17.886997",
     "exception": false,
     "start_time": "2022-10-11T20:34:17.769898",
     "status": "completed"
    },
    "tags": []
   },
   "outputs": [
    {
     "data": {
      "text/plain": [
       "0.926829268292683"
      ]
     },
     "execution_count": 52,
     "metadata": {},
     "output_type": "execute_result"
    }
   ],
   "source": [
    "random_search_rand_for.score(X_test, y_test)"
   ]
  },
  {
   "cell_type": "markdown",
   "id": "0754ec6b",
   "metadata": {
    "id": "UtJR1rFfpxaC",
    "papermill": {
     "duration": 0.029094,
     "end_time": "2022-10-11T20:34:17.945281",
     "exception": false,
     "start_time": "2022-10-11T20:34:17.916187",
     "status": "completed"
    },
    "tags": []
   },
   "source": [
    "#### Model Evaluation"
   ]
  },
  {
   "cell_type": "markdown",
   "id": "ec8a36ce",
   "metadata": {
    "id": "eb9hgwDNpxaC",
    "papermill": {
     "duration": 0.028869,
     "end_time": "2022-10-11T20:34:18.003356",
     "exception": false,
     "start_time": "2022-10-11T20:34:17.974487",
     "status": "completed"
    },
    "tags": []
   },
   "source": [
    "##### ROC"
   ]
  },
  {
   "cell_type": "code",
   "execution_count": 53,
   "id": "7a53130d",
   "metadata": {
    "execution": {
     "iopub.execute_input": "2022-10-11T20:34:18.063945Z",
     "iopub.status.busy": "2022-10-11T20:34:18.063550Z",
     "iopub.status.idle": "2022-10-11T20:34:18.919253Z",
     "shell.execute_reply": "2022-10-11T20:34:18.918253Z"
    },
    "id": "GQs6n-cLpxaC",
    "outputId": "6a031437-138f-4122-8736-540897ce70cc",
    "papermill": {
     "duration": 0.889384,
     "end_time": "2022-10-11T20:34:18.921901",
     "exception": false,
     "start_time": "2022-10-11T20:34:18.032517",
     "status": "completed"
    },
    "tags": []
   },
   "outputs": [
    {
     "data": {
      "text/plain": [
       "0.8585365853658536"
      ]
     },
     "execution_count": 53,
     "metadata": {},
     "output_type": "execute_result"
    }
   ],
   "source": [
    "rand_for_best_param = random_forest.set_params(n_estimators = 510, min_samples_split = 14, min_samples_leaf = 1, max_depth= None)\n",
    "rand_for_best_param.fit(X_test, y_test)\n",
    "rand_for_best_param.score(X_train, y_train)"
   ]
  },
  {
   "cell_type": "code",
   "execution_count": 54,
   "id": "c1dda655",
   "metadata": {
    "execution": {
     "iopub.execute_input": "2022-10-11T20:34:18.983118Z",
     "iopub.status.busy": "2022-10-11T20:34:18.982713Z",
     "iopub.status.idle": "2022-10-11T20:34:19.343465Z",
     "shell.execute_reply": "2022-10-11T20:34:19.342345Z"
    },
    "id": "Tk9U_lgjpxaC",
    "outputId": "cb62be71-0677-4b49-a809-06f4c3f57bf7",
    "papermill": {
     "duration": 0.394121,
     "end_time": "2022-10-11T20:34:19.345783",
     "exception": false,
     "start_time": "2022-10-11T20:34:18.951662",
     "status": "completed"
    },
    "tags": []
   },
   "outputs": [
    {
     "name": "stderr",
     "output_type": "stream",
     "text": [
      "/opt/conda/lib/python3.7/site-packages/sklearn/utils/deprecation.py:87: FutureWarning: Function plot_roc_curve is deprecated; Function :func:`plot_roc_curve` is deprecated in 1.0 and will be removed in 1.2. Use one of the class methods: :meth:`sklearn.metric.RocCurveDisplay.from_predictions` or :meth:`sklearn.metric.RocCurveDisplay.from_estimator`.\n",
      "  warnings.warn(msg, category=FutureWarning)\n"
     ]
    },
    {
     "data": {
      "image/png": "[encoded data removed]",
      "text/plain": [
       "<Figure size 432x288 with 1 Axes>"
      ]
     },
     "metadata": {},
     "output_type": "display_data"
    }
   ],
   "source": [
    "# Plotting ROC curve and calculate AUC\n",
    "plot_roc_curve(rand_for_best_param, X_test, y_test);"
   ]
  },
  {
   "cell_type": "markdown",
   "id": "8956d988",
   "metadata": {
    "id": "liZRke_upxaC",
    "papermill": {
     "duration": 0.029423,
     "end_time": "2022-10-11T20:34:19.405160",
     "exception": false,
     "start_time": "2022-10-11T20:34:19.375737",
     "status": "completed"
    },
    "tags": []
   },
   "source": [
    "##### Confusion Matrix"
   ]
  },
  {
   "cell_type": "code",
   "execution_count": 55,
   "id": "fda80d08",
   "metadata": {
    "execution": {
     "iopub.execute_input": "2022-10-11T20:34:19.466903Z",
     "iopub.status.busy": "2022-10-11T20:34:19.466464Z",
     "iopub.status.idle": "2022-10-11T20:34:19.544706Z",
     "shell.execute_reply": "2022-10-11T20:34:19.543829Z"
    },
    "id": "cg9ma7nipxaC",
    "papermill": {
     "duration": 0.112183,
     "end_time": "2022-10-11T20:34:19.547186",
     "exception": false,
     "start_time": "2022-10-11T20:34:19.435003",
     "status": "completed"
    },
    "tags": []
   },
   "outputs": [],
   "source": [
    "y_preds = rand_for_best_param.predict(X_test)"
   ]
  },
  {
   "cell_type": "code",
   "execution_count": 56,
   "id": "23eed02f",
   "metadata": {
    "execution": {
     "iopub.execute_input": "2022-10-11T20:34:19.609865Z",
     "iopub.status.busy": "2022-10-11T20:34:19.609450Z",
     "iopub.status.idle": "2022-10-11T20:34:19.785799Z",
     "shell.execute_reply": "2022-10-11T20:34:19.784898Z"
    },
    "id": "EtjxFlUxpxaC",
    "outputId": "13066bcd-93e8-43d9-ed64-c5ed9f8ccc82",
    "papermill": {
     "duration": 0.210361,
     "end_time": "2022-10-11T20:34:19.788201",
     "exception": false,
     "start_time": "2022-10-11T20:34:19.577840",
     "status": "completed"
    },
    "tags": []
   },
   "outputs": [
    {
     "data": {
      "image/png": "[encoded data removed]",
      "text/plain": [
       "<Figure size 216x216 with 1 Axes>"
      ]
     },
     "metadata": {},
     "output_type": "display_data"
    }
   ],
   "source": [
    "sns.set(font_scale=1.5)\n",
    " \n",
    "def plot_conf_mat(y_test, y_preds):\n",
    "    fig, ax = plt.subplots(figsize=(3, 3))\n",
    "    ax = sns.heatmap(confusion_matrix(y_test, y_preds),\n",
    "                     annot=True, # Annotate the boxes\n",
    "                     cbar=False)\n",
    "    plt.xlabel(\"Predicted label\") # predictions go on the x-axis\n",
    "    plt.ylabel(\"True label\") # true labels go on the y-axis \n",
    "    \n",
    "plot_conf_mat(y_test, y_preds)"
   ]
  },
  {
   "cell_type": "markdown",
   "id": "9203711f",
   "metadata": {
    "id": "6rh0CMgfpxaD",
    "papermill": {
     "duration": 0.030057,
     "end_time": "2022-10-11T20:34:19.848335",
     "exception": false,
     "start_time": "2022-10-11T20:34:19.818278",
     "status": "completed"
    },
    "tags": []
   },
   "source": [
    "##### Classification Report"
   ]
  },
  {
   "cell_type": "code",
   "execution_count": 57,
   "id": "988ff93d",
   "metadata": {
    "execution": {
     "iopub.execute_input": "2022-10-11T20:34:19.910242Z",
     "iopub.status.busy": "2022-10-11T20:34:19.909611Z",
     "iopub.status.idle": "2022-10-11T20:34:19.919501Z",
     "shell.execute_reply": "2022-10-11T20:34:19.918252Z"
    },
    "id": "XzyZ3rqypxaD",
    "outputId": "51403b61-a628-4c90-e261-6e745e77659e",
    "papermill": {
     "duration": 0.043635,
     "end_time": "2022-10-11T20:34:19.921912",
     "exception": false,
     "start_time": "2022-10-11T20:34:19.878277",
     "status": "completed"
    },
    "tags": []
   },
   "outputs": [
    {
     "name": "stdout",
     "output_type": "stream",
     "text": [
      "              precision    recall  f1-score   support\n",
      "\n",
      "           0       0.93      0.94      0.94       102\n",
      "           1       0.94      0.93      0.94       103\n",
      "\n",
      "    accuracy                           0.94       205\n",
      "   macro avg       0.94      0.94      0.94       205\n",
      "weighted avg       0.94      0.94      0.94       205\n",
      "\n"
     ]
    }
   ],
   "source": [
    "# For a single test set\n",
    "print(classification_report(y_test, y_preds))"
   ]
  },
  {
   "cell_type": "markdown",
   "id": "efdf1f8a",
   "metadata": {
    "id": "EaJ0MZtGpxaD",
    "papermill": {
     "duration": 0.029453,
     "end_time": "2022-10-11T20:34:19.981352",
     "exception": false,
     "start_time": "2022-10-11T20:34:19.951899",
     "status": "completed"
    },
    "tags": []
   },
   "source": [
    "###### Using Cross-validation ( cross_val_score() )"
   ]
  },
  {
   "cell_type": "code",
   "execution_count": 58,
   "id": "f8f9af6a",
   "metadata": {
    "execution": {
     "iopub.execute_input": "2022-10-11T20:34:20.043785Z",
     "iopub.status.busy": "2022-10-11T20:34:20.042533Z",
     "iopub.status.idle": "2022-10-11T20:34:24.989881Z",
     "shell.execute_reply": "2022-10-11T20:34:24.988800Z"
    },
    "id": "Tq5S81r4pxaD",
    "outputId": "e5b9f3ed-b63d-4b66-f659-2f3f700457f5",
    "papermill": {
     "duration": 4.981139,
     "end_time": "2022-10-11T20:34:24.992191",
     "exception": false,
     "start_time": "2022-10-11T20:34:20.011052",
     "status": "completed"
    },
    "tags": []
   },
   "outputs": [
    {
     "data": {
      "text/plain": [
       "0.9707317073170731"
      ]
     },
     "execution_count": 58,
     "metadata": {},
     "output_type": "execute_result"
    }
   ],
   "source": [
    "# Cross-validated accuracy\n",
    "\n",
    "cv_acc = cross_val_score(rand_for_best_param,\n",
    "                         X,\n",
    "                         y,\n",
    "                         cv = 5,\n",
    "                         scoring = 'accuracy')\n",
    "\n",
    "cv_acc = np.mean(cv_acc)\n",
    "cv_acc"
   ]
  },
  {
   "cell_type": "code",
   "execution_count": 59,
   "id": "d33e10eb",
   "metadata": {
    "execution": {
     "iopub.execute_input": "2022-10-11T20:34:25.055947Z",
     "iopub.status.busy": "2022-10-11T20:34:25.055027Z",
     "iopub.status.idle": "2022-10-11T20:34:30.007681Z",
     "shell.execute_reply": "2022-10-11T20:34:30.006659Z"
    },
    "id": "TePf7G93pxaD",
    "outputId": "aa4699aa-7092-4708-8805-35e91c85c1d3",
    "papermill": {
     "duration": 4.987438,
     "end_time": "2022-10-11T20:34:30.010449",
     "exception": false,
     "start_time": "2022-10-11T20:34:25.023011",
     "status": "completed"
    },
    "tags": []
   },
   "outputs": [
    {
     "data": {
      "text/plain": [
       "0.9680289862374151"
      ]
     },
     "execution_count": 59,
     "metadata": {},
     "output_type": "execute_result"
    }
   ],
   "source": [
    "# Cross-validated precision\n",
    "cv_precision = cross_val_score(rand_for_best_param,\n",
    "                         X,\n",
    "                         y,\n",
    "                         cv = 5,\n",
    "                         scoring = 'precision')\n",
    "\n",
    "cv_precision = np.mean(cv_precision)\n",
    "cv_precision"
   ]
  },
  {
   "cell_type": "code",
   "execution_count": 60,
   "id": "51bc7ff0",
   "metadata": {
    "execution": {
     "iopub.execute_input": "2022-10-11T20:34:30.074275Z",
     "iopub.status.busy": "2022-10-11T20:34:30.073544Z",
     "iopub.status.idle": "2022-10-11T20:34:35.048034Z",
     "shell.execute_reply": "2022-10-11T20:34:35.047138Z"
    },
    "id": "vVp6Sl5opxaD",
    "outputId": "eb8f4953-6158-4dd5-e574-b1bc77e6697e",
    "papermill": {
     "duration": 5.00912,
     "end_time": "2022-10-11T20:34:35.050415",
     "exception": false,
     "start_time": "2022-10-11T20:34:30.041295",
     "status": "completed"
    },
    "tags": []
   },
   "outputs": [
    {
     "data": {
      "text/plain": [
       "0.9791374663072776"
      ]
     },
     "execution_count": 60,
     "metadata": {},
     "output_type": "execute_result"
    }
   ],
   "source": [
    "# Cross-validated recall\n",
    "cv_recall = cross_val_score(rand_for_best_param,\n",
    "                         X,\n",
    "                         y,\n",
    "                         cv = 5,\n",
    "                         scoring = 'recall')\n",
    "\n",
    "cv_recall = np.mean(cv_recall)\n",
    "cv_recall"
   ]
  },
  {
   "cell_type": "code",
   "execution_count": 61,
   "id": "aec5921f",
   "metadata": {
    "execution": {
     "iopub.execute_input": "2022-10-11T20:34:35.118431Z",
     "iopub.status.busy": "2022-10-11T20:34:35.117249Z",
     "iopub.status.idle": "2022-10-11T20:34:40.275214Z",
     "shell.execute_reply": "2022-10-11T20:34:40.273983Z"
    },
    "id": "Fve8xfcepxaD",
    "outputId": "09e56382-f9d4-47f0-e786-c919e0fc6cd2",
    "papermill": {
     "duration": 5.193981,
     "end_time": "2022-10-11T20:34:40.277939",
     "exception": false,
     "start_time": "2022-10-11T20:34:35.083958",
     "status": "completed"
    },
    "tags": []
   },
   "outputs": [
    {
     "data": {
      "text/plain": [
       "0.9717421510193234"
      ]
     },
     "execution_count": 61,
     "metadata": {},
     "output_type": "execute_result"
    }
   ],
   "source": [
    "# Cross-validated F1-score\n",
    "cv_f1 = cross_val_score(rand_for_best_param,\n",
    "                         X,\n",
    "                         y,\n",
    "                         cv = 5,\n",
    "                         scoring = 'f1')\n",
    "\n",
    "cv_f1 = np.mean(cv_f1)\n",
    "cv_f1"
   ]
  },
  {
   "cell_type": "code",
   "execution_count": 62,
   "id": "5ef63e63",
   "metadata": {
    "execution": {
     "iopub.execute_input": "2022-10-11T20:34:40.342689Z",
     "iopub.status.busy": "2022-10-11T20:34:40.342253Z",
     "iopub.status.idle": "2022-10-11T20:34:40.574841Z",
     "shell.execute_reply": "2022-10-11T20:34:40.573749Z"
    },
    "id": "NkDYpXzWpxaD",
    "outputId": "60c29027-e67f-4881-e674-6c4885920a1a",
    "papermill": {
     "duration": 0.267814,
     "end_time": "2022-10-11T20:34:40.577479",
     "exception": false,
     "start_time": "2022-10-11T20:34:40.309665",
     "status": "completed"
    },
    "tags": []
   },
   "outputs": [
    {
     "data": {
      "image/png": "[encoded data removed]",
      "text/plain": [
       "<Figure size 432x288 with 1 Axes>"
      ]
     },
     "metadata": {},
     "output_type": "display_data"
    }
   ],
   "source": [
    "cv_metrics = pd.DataFrame({'Accuracy': cv_acc,\n",
    "                           'Precision': cv_precision,\n",
    "                           'Recall': cv_recall,\n",
    "                           'F1': cv_f1},\n",
    "                          index=[0])\n",
    "\n",
    "cv_metrics.T.plot.bar(title= 'Cross-validated classification metrics', legend = False);"
   ]
  }
 ],
 "metadata": {
  "kernelspec": {
   "display_name": "Python 3",
   "language": "python",
   "name": "python3"
  },
  "language_info": {
   "codemirror_mode": {
    "name": "ipython",
    "version": 3
   },
   "file_extension": ".py",
   "mimetype": "text/x-python",
   "name": "python",
   "nbconvert_exporter": "python",
   "pygments_lexer": "ipython3",
   "version": "3.7.12"
  },
  "papermill": {
   "default_parameters": {},
   "duration": 136.215391,
   "end_time": "2022-10-11T20:34:41.430747",
   "environment_variables": {},
   "exception": null,
   "input_path": "__notebook__.ipynb",
   "output_path": "__notebook__.ipynb",
   "parameters": {},
   "start_time": "2022-10-11T20:32:25.215356",
   "version": "2.3.4"
  }
 },
 "nbformat": 4,
 "nbformat_minor": 5
}
